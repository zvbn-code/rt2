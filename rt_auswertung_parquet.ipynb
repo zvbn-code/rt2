{
 "cells": [
  {
   "cell_type": "markdown",
   "metadata": {},
   "source": [
    "# Auswertung der Parquet Dateien aus dem Echtzeitarchiv V14"
   ]
  },
  {
   "cell_type": "markdown",
   "metadata": {},
   "source": [
    "## Import der Module und Setzen Parameter"
   ]
  },
  {
   "cell_type": "code",
   "execution_count": 53,
   "metadata": {},
   "outputs": [],
   "source": [
    "import pandas as pd\n",
    "import sys\n",
    "from dotenv import load_dotenv\n",
    "import os\n",
    "import openpyxl\n",
    "\n",
    "import datetime as dt\n",
    "\n",
    "import shutil\n",
    "\n",
    "from dotenv import dotenv_values\n",
    "from redmine import delete_upload_dmsf\n",
    "import logging\n",
    "import glob\n",
    "\n",
    "from openpyxl.styles import NamedStyle"
   ]
  },
  {
   "cell_type": "code",
   "execution_count": null,
   "metadata": {},
   "outputs": [],
   "source": [
    "log_file = \"log/log_rt.txt\"\n",
    "logging.basicConfig(filename=log_file, \n",
    "                        level=logging.INFO,\n",
    "                        style=\"{\",\n",
    "                        format=\"{asctime} [{levelname:8}] {message}\",\n",
    "                        datefmt=\"%d.%m.%Y %H:%M:%S\")\n",
    "\n",
    "load_dotenv()"
   ]
  },
  {
   "cell_type": "code",
   "execution_count": 4,
   "metadata": {},
   "outputs": [],
   "source": [
    "sys.path.append('/home/zvbn/python/rt2')"
   ]
  },
  {
   "cell_type": "code",
   "execution_count": 5,
   "metadata": {},
   "outputs": [],
   "source": [
    "from class_rt_duck import RtDuck"
   ]
  },
  {
   "cell_type": "code",
   "execution_count": 6,
   "metadata": {},
   "outputs": [],
   "source": [
    "logging.info(\"Auswertung RT aus parquet gestartet\")"
   ]
  },
  {
   "cell_type": "code",
   "execution_count": 7,
   "metadata": {},
   "outputs": [],
   "source": [
    "config = dotenv_values(\".env\")\n",
    "#config"
   ]
  },
  {
   "cell_type": "code",
   "execution_count": 8,
   "metadata": {},
   "outputs": [],
   "source": [
    "pd.options.display.max_columns = 100"
   ]
  },
  {
   "cell_type": "code",
   "execution_count": null,
   "metadata": {},
   "outputs": [],
   "source": [
    "jetzt = dt.datetime.now().strftime('%Y-%m-%d %H:%M:%S')\n",
    "gestern= (dt.date.today() - dt.timedelta(1)).strftime('%Y-%m-%d')\n",
    "letzte07tage= (dt.date.today() - dt.timedelta(7)).strftime('%Y-%m-%d')\n",
    "letzte14tage= (dt.date.today() - dt.timedelta(14)).strftime('%Y-%m-%d')\n",
    "letzte21tage= (dt.date.today() - dt.timedelta(21)).strftime('%Y-%m-%d')\n",
    "\n",
    "print(jetzt, letzte21tage)"
   ]
  },
  {
   "cell_type": "markdown",
   "metadata": {},
   "source": [
    "## Funktionen"
   ]
  },
  {
   "cell_type": "code",
   "execution_count": 10,
   "metadata": {},
   "outputs": [],
   "source": [
    "def replace_german_special_characters(text) -> str:\n",
    "    replacements = {\n",
    "        'ä': 'ae',\n",
    "        'ö': 'oe',\n",
    "        'ü': 'ue',\n",
    "        'Ä': 'Ae',\n",
    "        'Ö': 'Oe',\n",
    "        'Ü': 'Ue',\n",
    "        'ß': 'ss'\n",
    "    }\n",
    "    \n",
    "    for german_char, replacement in replacements.items():\n",
    "        text = text.replace(german_char, replacement)\n",
    "    \n",
    "    return text"
   ]
  },
  {
   "cell_type": "code",
   "execution_count": 11,
   "metadata": {},
   "outputs": [],
   "source": [
    "#für die Formatierung der Ausgabe in html\n",
    "func_proz = lambda s: str(int((1-s) * 1000)/10) + '%' if str(int(s)) != '-1' else '-'\n",
    "func_date = lambda s: s.dt.strftime('%m/%d/%Y')"
   ]
  },
  {
   "cell_type": "markdown",
   "metadata": {},
   "source": [
    "## CSS Styles"
   ]
  },
  {
   "cell_type": "code",
   "execution_count": 12,
   "metadata": {},
   "outputs": [],
   "source": [
    "#Zellformatierung CSS\n",
    "cell_hover = {  # for row hover use <tr> instead of <td>\n",
    "    'selector': 'td:hover',\n",
    "    'props': [('background-color', '#ffffb3')]\n",
    "}\n",
    "index_names = {\n",
    "    'selector': '.index_name',\n",
    "    'props': 'font-style: italic; color: darkgrey; font-weight:normal; font-family: sans-serif;'\n",
    "}\n",
    "headers = {\n",
    "    'selector': 'th:not(.index_name)',\n",
    "    'props': 'background-color: #FFFFFF; color: #000000; font-family: sans-serif;'\n",
    "}\n",
    "\n",
    "td = {'selector' : 'td', 'props': 'text-align:right; font-family: sans-serif'}"
   ]
  },
  {
   "cell_type": "markdown",
   "metadata": {},
   "source": [
    "## Testen der class"
   ]
  },
  {
   "cell_type": "code",
   "execution_count": null,
   "metadata": {},
   "outputs": [],
   "source": [
    "rt = RtDuck()\n",
    "rt"
   ]
  },
  {
   "cell_type": "code",
   "execution_count": 14,
   "metadata": {},
   "outputs": [],
   "source": [
    "#Schließen der Verbindung\n",
    "#rt.verbindung_schliessen()"
   ]
  },
  {
   "cell_type": "code",
   "execution_count": null,
   "metadata": {},
   "outputs": [],
   "source": [
    "rt.create_table_fahrten(server = 'prod')"
   ]
  },
  {
   "cell_type": "code",
   "execution_count": null,
   "metadata": {},
   "outputs": [],
   "source": [
    "rt.create_table_zusatz(server = 'prod')\n",
    "rt.create_table_verlauf(server = 'prod')\n",
    "rt.create_table_matrix(server = 'prod')"
   ]
  },
  {
   "cell_type": "code",
   "execution_count": null,
   "metadata": {},
   "outputs": [],
   "source": [
    "rt.cursor.sql(\"select lineid, lineid_short, * from fahrten where datum::date = '2025-01-12' and lineid like 'de:VBN:730%'\")"
   ]
  },
  {
   "cell_type": "code",
   "execution_count": 20,
   "metadata": {},
   "outputs": [],
   "source": [
    "df_line_clientid = rt.cursor.sql(\"\"\"select distinct lineid_short, clientid, max(datum) as max_datum\n",
    "                                 from fahrten \n",
    "                                 where datum >= (current_date - interval 7 day) \n",
    "                                 group by all\n",
    "                                 order by  clientid, lineid_short\"\"\").df()"
   ]
  },
  {
   "cell_type": "code",
   "execution_count": null,
   "metadata": {},
   "outputs": [],
   "source": [
    "rt.cursor.sql( \"\"\"select f.lineid_short, datum::date as datum, buendel, \n",
    "                round((count (*) filter (realtimeHasEverBeenReported = true) / count(*) ) * 100, 1) as anteil_ez  \n",
    "              from fahrten f \n",
    "                join linien l on f.lineid_short = l.dlid \n",
    "              \n",
    "              where datum::date = '2025-01-12'\n",
    "              group by all\"\"\")"
   ]
  },
  {
   "cell_type": "markdown",
   "metadata": {},
   "source": [
    "## Erstellen der Statistiken log_12_pivot und log_3_pivot"
   ]
  },
  {
   "cell_type": "code",
   "execution_count": 22,
   "metadata": {},
   "outputs": [],
   "source": [
    "def sql_ebenen(ebenen):\n",
    "            sql = f\"\"\" \n",
    "              select datum::date::text as datum, buendel, \n",
    "                round((count (*) filter (realtimeHasEverBeenReported = true) / count(*) ) * 100, 1) as anteil_ez  \n",
    "              from fahrten f \n",
    "                join linien l on f.lineid_short = l.dlid \n",
    "              where \n",
    "                f.datum > (current_date - interval 60 day)\n",
    "              and ebene in {ebenen}\n",
    "              group by all\"\"\"\n",
    "            \n",
    "            return sql\n"
   ]
  },
  {
   "cell_type": "markdown",
   "metadata": {},
   "source": [
    "### HTML Stil"
   ]
  },
  {
   "cell_type": "code",
   "execution_count": 23,
   "metadata": {},
   "outputs": [],
   "source": [
    "#Zellformatierung CSS\n",
    "cell_hover = {  # for row hover use <tr> instead of <td>\n",
    "    'selector': 'td:hover',\n",
    "    'props': [('background-color', '#ffffb3')]\n",
    "}\n",
    "index_names = {\n",
    "    'selector': '.index_name',\n",
    "    'props': 'font-style: italic; color: darkgrey; font-weight:normal; font-family: sans-serif;'\n",
    "}\n",
    "headers = {\n",
    "    'selector': 'th:not(.index_name)',\n",
    "    'props': 'background-color: #FFFFFF; color: #000000; font-family: sans-serif;'\n",
    "}\n",
    "\n",
    "td = {'selector' : 'td', 'props': 'text-align:right; font-family: sans-serif'}"
   ]
  },
  {
   "cell_type": "code",
   "execution_count": 24,
   "metadata": {},
   "outputs": [],
   "source": [
    "ebenen = ('1+', '1', '2', 'Stadt', 'Nacht')\n",
    "df = rt.cursor.sql(sql_ebenen(ebenen=ebenen)).df()\n",
    "df_pivot = df.pivot(index='datum', columns='buendel', values='anteil_ez')\n",
    "df_pivot.sort_values('datum', ascending=False).style.background_gradient(cmap=\"RdYlGn\", axis = None,  vmin=0.0, vmax=95)\\\n",
    "    .highlight_null(color='white').format(formatter = '{:.1f}%', precision=1, na_rep='-', thousands=\" \", decimal= ',').set_table_styles([index_names, headers, td])\\\n",
    "        .to_html('/var/www/rt_archiv/log_12_pivot.html', encoding='LATIN1')"
   ]
  },
  {
   "cell_type": "code",
   "execution_count": 25,
   "metadata": {},
   "outputs": [],
   "source": [
    "ebenen = \"('3')\"\n",
    "df = rt.cursor.sql(sql_ebenen(ebenen=ebenen)).df()\n",
    "df_pivot = df.pivot(index='datum', columns='buendel', values='anteil_ez')\n",
    "df_pivot.sort_values('datum', ascending=False).style.background_gradient(cmap=\"RdYlGn\", axis = None,  vmin=0.0, vmax=95)\\\n",
    "    .highlight_null(color='white').format(formatter = '{:.1f}%', precision=1, na_rep='-', thousands=\" \", decimal= ',').set_table_styles([index_names, headers, td])\\\n",
    "        .to_html('/var/www/rt_archiv/log_3_pivot.html', encoding='LATIN1')"
   ]
  },
  {
   "cell_type": "code",
   "execution_count": null,
   "metadata": {},
   "outputs": [],
   "source": [
    "rt.anzahl_fahrten_betreiber()"
   ]
  },
  {
   "cell_type": "code",
   "execution_count": 27,
   "metadata": {},
   "outputs": [],
   "source": [
    "rt.anzahl_fahrten_betreiber().to_html('/var/www/rt_archiv/anzahl_fahrten_betreiber.html', encoding='LATIN1')"
   ]
  },
  {
   "cell_type": "markdown",
   "metadata": {},
   "source": [
    "## Ermitteln der Fahrten, die nur 0 Min senden bzw. im Verlauf nur 0 gespeichert wurde"
   ]
  },
  {
   "cell_type": "code",
   "execution_count": null,
   "metadata": {},
   "outputs": [],
   "source": [
    "rt.cursor.sql(\"\"\" select * from\n",
    "                (select ex_lineid, fnr,min(operday) as start, max(operday) as ende ,count(*) as count from (\n",
    "                    select * from \n",
    "                        (select operday, ex_lineid, fnr, avg(dep_del) as avg_del\n",
    "                        from verlauf \n",
    "                        where dep_del is not null\n",
    "                        and has_rt = true\n",
    "                        group by all)\n",
    "                    where avg_del = 0 and ex_lineid like 'de:VBN:6__:%' and operday > (current_date - interval 28 day)\n",
    "                    order by ex_lineid)               \n",
    "                \n",
    "                group by all\n",
    "                order by count desc)\n",
    "              where count > 3\n",
    "              \"\"\").df()"
   ]
  },
  {
   "cell_type": "code",
   "execution_count": 29,
   "metadata": {},
   "outputs": [],
   "source": [
    "rt.cursor.sql(\"select * from verlauf where fnr = '1630018'\").df().to_excel('out/verlauf_1630018.xlsx', index=False)"
   ]
  },
  {
   "cell_type": "code",
   "execution_count": null,
   "metadata": {},
   "outputs": [],
   "source": [
    "suffix = 'mitte'\n",
    "#auswahl_linien = '680|660|N68'\n",
    "auswahl_linien = '630|670|N63|N67'\n",
    "\n",
    "df_auswahl_ohne_rt = rt.cursor.sql(f\"\"\"select * from\n",
    "              (select lineshort, min(datum)::date as min_datum, max(datum)::date as max_datum, fnr, \n",
    "              count(* ) as anzahl, \n",
    "              count(* ) filter (hasRealtime  = false ) as anzahl_ohne_rt, \n",
    "              anzahl_ohne_rt / count(* ) as proz_ohne_rt\n",
    "              from fahrten  \n",
    "              where lineid  SIMILAR TO '.*({auswahl_linien}).*' \n",
    "              -- and hasRealtime  = false \n",
    "              and datum  >= (current_date() - interval 28 days)\n",
    "              group by all\n",
    "              )\n",
    "              where anzahl_ohne_rt > 1\n",
    "              order by proz_ohne_rt desc\n",
    "\n",
    "              -- limit 10\"\"\").df()\n",
    "\n",
    "df_zusatz = rt.cursor.sql(f\"\"\"select * from zusatz where lineid  SIMILAR TO 'de:VBN:.*({auswahl_linien}).*' \"\"\").df()\n",
    "\n",
    "ohne_rt_xl = f\"out/rt_ohne_realtime_{suffix}.xlsx\"\n",
    "sn01 = 'ohne_rt'\n",
    "with pd.ExcelWriter(ohne_rt_xl, engine='openpyxl') as writer:\n",
    "    df_auswahl_ohne_rt.to_excel(writer, sheet_name=sn01, index=False)\n",
    "    worksheet = writer.sheets[sn01]\n",
    "    worksheet.freeze_panes = 'a2'\n",
    "\n",
    "    worksheet.column_dimensions['B'].width = 15\n",
    "    worksheet.column_dimensions['C'].width = 15\n",
    "    worksheet.auto_filter.ref = worksheet.dimensions\n",
    "\n",
    "    # Format the 'Zeit' column as date\n",
    "    for cell in worksheet['B']:  # Assuming 'Zeit' is in column D\n",
    "        if cell.row == 1:  # Skip the header row\n",
    "            continue\n",
    "        cell.number_format = 'YYYY-MM-DD'\n",
    "\n",
    "    # Format the 'Zeit' column as date\n",
    "    for cell in worksheet['C']:  # Assuming 'Zeit' is in column D\n",
    "        if cell.row == 1:  # Skip the header row\n",
    "            continue\n",
    "        cell.number_format = 'YYYY-MM-DD'\n",
    "\n",
    "    # Format the 'Prozent' column as percentage\n",
    "    for cell in worksheet['G']:  # Assuming 'Prozent' is in column D\n",
    "        if cell.row == 1:  # Skip the header row\n",
    "            continue\n",
    "        cell.number_format = '0.0%'\n",
    " \n",
    "df_zusatz"
   ]
  },
  {
   "cell_type": "code",
   "execution_count": null,
   "metadata": {},
   "outputs": [],
   "source": [
    "df_linien_quote_rt = rt.cursor.sql(\"\"\"\n",
    "            select * from\n",
    "              ( select lineshort, min(datum)::date as min_datum, max(datum)::date as max_datum,  \n",
    "                    count(* ) as anzahl, \n",
    "                    count(* ) filter (hasRealtime  = false ) as anzahl_ohne_rt, \n",
    "                    anzahl_ohne_rt / count(* ) as proz_ohne_rt\n",
    "                from fahrten  \n",
    "                where \n",
    "                -- and hasRealtime  = false \n",
    "                    datum  >= (current_date() - interval 28 days)\n",
    "                group by all\n",
    "              )\n",
    "              where anzahl_ohne_rt > 1\n",
    "              order by proz_ohne_rt desc\n",
    "\n",
    "              -- limit 10\"\"\").df()\n",
    "\n",
    "df_linien_quote_rt"
   ]
  },
  {
   "cell_type": "code",
   "execution_count": null,
   "metadata": {},
   "outputs": [],
   "source": [
    "df_zusatz"
   ]
  },
  {
   "cell_type": "markdown",
   "metadata": {},
   "source": [
    "### Auswertung Matrix nach Verlauf Zeitpunkt der Meldung"
   ]
  },
  {
   "cell_type": "code",
   "execution_count": 33,
   "metadata": {},
   "outputs": [],
   "source": [
    "df_matrix = rt.cursor.sql(\"\"\"select m.operatingDay::date, m.lineShortName, m.journeyId, v.index, \n",
    "                          m.stationName, m.scheduleDeparture,m.delay_minutes_arrival, m.delay_minutes_departure, m.timestamp, v.arr_del, v.dep_del\n",
    "                from matrix m\n",
    "                left join verlauf v on \n",
    "                          m.operatingDay = v.operday and \n",
    "                          m.lineShortName = v.lineshortname and \n",
    "                          m.journeyId = v.fnr and \n",
    "                          m.stationName = v.station_name\n",
    "                where stop_cancelled = false\n",
    "              and m.lineShortName = 'RS3'\n",
    "              order by  m.operatingDay, m.externalLineId, m.journeyId, v.index,  m.timestamp \n",
    "              \n",
    "              -- limit 20\"\"\").df()"
   ]
  },
  {
   "cell_type": "code",
   "execution_count": null,
   "metadata": {},
   "outputs": [],
   "source": [
    "auswahl_linien = '630|670|N68|N63|N67'\n",
    "df_zusatz = rt.cursor.sql(f\"\"\"\n",
    "                select datum::date as datum, lineshort,lineid ,fnr,  vu \n",
    "                from zusatz \n",
    "                where                       \n",
    "\n",
    "                    lineid SIMILAR TO 'de:VBN:.*({auswahl_linien}).*' and \n",
    "                    -- and vu like 'Reisedienst von Rahden%' \n",
    "                    datum::date >= (current_date - interval 30 day)\n",
    "                group by all \n",
    "                order by lineshort, fnr \"\"\").df()\n",
    "\n",
    "df_zusatz\n",
    "\n",
    "#rt.cursor.sql(f\"\"\"select * from zusatz where lineid  SIMILAR TO 'de:VBN:.*({auswahl_linien}).*' and datum::date >= (current_date - interval 30 day)\"\"\").df()"
   ]
  },
  {
   "cell_type": "code",
   "execution_count": null,
   "metadata": {},
   "outputs": [],
   "source": [
    "rt.cursor.sql(\"select min(datum )::date as min_date, max(datum)::date as amx_date, count(*) as anzahl from fahrten\")"
   ]
  },
  {
   "cell_type": "code",
   "execution_count": 36,
   "metadata": {},
   "outputs": [],
   "source": [
    "rt.create_vw_buendel('TN 5 CUX')"
   ]
  },
  {
   "cell_type": "code",
   "execution_count": null,
   "metadata": {},
   "outputs": [],
   "source": [
    "rt.cursor.sql(\"select * from vw_buendel\").df()"
   ]
  },
  {
   "cell_type": "markdown",
   "metadata": {},
   "source": [
    "### Häufung von Fahrten ohne Echtzeit"
   ]
  },
  {
   "cell_type": "code",
   "execution_count": 38,
   "metadata": {},
   "outputs": [],
   "source": [
    "df_fahrten_ohne_ez = rt.cursor.sql(\"\"\"\n",
    "              \n",
    "                select datum::date as datum, ebene, lineshort , fnr, hasrealtime\n",
    "               \n",
    "                from vw_buendel \n",
    "                where datum >= (current_date - interval 30 day) and hasrealtime = false\n",
    "                group by all\n",
    "                order by ebene, lineshort, fnr\n",
    "    \n",
    "              \"\"\").df()\n",
    "\n",
    "df_fahrten_ohne_ez_zusatz = df_fahrten_ohne_ez.merge(df_zusatz, left_on = ['datum', 'fnr'], right_on = ['datum', 'fnr'], how='left')\n",
    "df_fahrten_ohne_ez_zusatz.query(\"~vu.isnull()\") \n",
    "\n",
    "df_fahrten_ohne_ez_zusatz[['lineshort_x','datum','fnr']].groupby(['lineshort_x','fnr'], as_index=False)\\\n",
    "    .agg(datum_min=('datum', 'min'), datum_max=('datum', 'max'), count=('datum', 'count')).sort_values('count', ascending=False)\\\n",
    "    .to_excel('out/rt_fahrten_ohne_ez_zusatz.xlsx', index=False)"
   ]
  },
  {
   "cell_type": "code",
   "execution_count": null,
   "metadata": {},
   "outputs": [],
   "source": [
    "df_fahrten_ohne_ez_zusatz.query(\"~vu.isnull()\")"
   ]
  },
  {
   "cell_type": "code",
   "execution_count": null,
   "metadata": {},
   "outputs": [],
   "source": [
    "interval_auswertung = 21\n",
    "df_fahrten_mit_nicht_vollstaendiger_echtzeit = rt.cursor.sql(f\"\"\"\n",
    "            select * from \n",
    "                (select ebene, lineshort , fnr, count(*) as anz, count(*) filter (hasRealtime) as anz_rt, \n",
    "                    (anz - anz_rt) as f_ohne_rt ,round(anz_rt/anz,2) as quote,\n",
    "                    max(datum::date) filter (hasRealtime) as letzte_lieferung_echtzeit\n",
    "                from vw_buendel \n",
    "                where datum >= (current_date - interval {interval_auswertung} day)\n",
    "                group by all\n",
    "                order by ebene, lineshort, fnr)\n",
    "            where f_ohne_rt > 1 and ebene in ('1+','1', '2') \n",
    "            order by f_ohne_rt desc                                                             \n",
    "            \"\"\").df()\n",
    "\n",
    "df_fahrten_mit_nicht_vollstaendiger_echtzeit"
   ]
  },
  {
   "cell_type": "code",
   "execution_count": 41,
   "metadata": {},
   "outputs": [],
   "source": [
    "xl = 'out/nicht_vollstaendig.xlsx'\n",
    "sn01 = '01 fahrten_rt_kl_100_roz'\n",
    "sn02 = '02 zusatzfahrten'\n",
    "sn03 = '03 ohne ez merge zusatz'\n",
    "\n",
    "with pd.ExcelWriter(xl, engine='openpyxl') as writer: \n",
    "    df_fahrten_mit_nicht_vollstaendiger_echtzeit.to_excel(writer, index=False, sheet_name=sn01)\n",
    "    writer.book[sn01].freeze_panes = 'A2'\n",
    "    writer.book[sn01].auto_filter.ref='A:H'\n",
    "\n",
    "    df_zusatz.to_excel(writer, index=False, sheet_name=sn02)\n",
    "    writer.book[sn02].freeze_panes = 'A2'\n",
    "    writer.book[sn02].auto_filter.ref='A:H'\n",
    "\n",
    "    df_fahrten_ohne_ez_zusatz.to_excel(writer, index=False, sheet_name=sn03)\n",
    "    writer.book[sn03].freeze_panes = 'A2'\n",
    "    writer.book[sn03].auto_filter.ref='A:H'\n"
   ]
  },
  {
   "cell_type": "code",
   "execution_count": null,
   "metadata": {},
   "outputs": [],
   "source": [
    "q = rt.cursor.sql(\"\"\"\n",
    "                   (select \n",
    "                    datum::date as datum, ebene, lineshort, lineid_short, count(*) anz,\n",
    "                    count(*) filter (hasRealtime) anz_rt, round(anz_rt/ anz,2) anteil_rt, \n",
    "                    max(datum) filter (hasRealtime) letzte_lieferung\n",
    "                    from vw_buendel \n",
    "                    where datum >= date_trunc('month', (date_trunc('month',current_date) - interval 1 day)::date)\n",
    "                    and datum <= (date_trunc('month',current_date) - interval 1 day)::date\n",
    "                  \n",
    "                    group by all\n",
    "\n",
    "                    order by datum::date)\n",
    "                  \"\"\")\n",
    "#q.filter(\"lineshort in ('S35', '350')\") #mit filter einfache Abfragen\n",
    "\n",
    "q"
   ]
  },
  {
   "cell_type": "code",
   "execution_count": null,
   "metadata": {},
   "outputs": [],
   "source": [
    "#Abfrage für den letzten Monat\n",
    "q_pivot_lm = rt.cursor.sql(\"\"\"\n",
    "                    pivot (select \n",
    "                            datum::date as datum, ebene, lineshort, lineid_short, count(*) anz,\n",
    "                            count(*) filter (hasRealtime) anz_rt, round(anz_rt/ anz,2) anteil_rt\n",
    "                        from vw_buendel \n",
    "                        where datum >= date_trunc('month', (date_trunc('month',current_date) - interval 1 day)::date)\n",
    "                            and datum <= (date_trunc('month',current_date) - interval 1 day)::date\n",
    "                        group by all\n",
    "                        )\n",
    "                    on datum\n",
    "                    using sum(anteil_rt)\n",
    "                    group by lineshort, ebene\n",
    "                    order by ebene, lineshort\"\"\")\n",
    "\n",
    "q_pivot_lm.df().fillna('-')"
   ]
  },
  {
   "cell_type": "markdown",
   "metadata": {},
   "source": [
    "## Ausgabe je Bündel als html / xlsx"
   ]
  },
  {
   "cell_type": "markdown",
   "metadata": {},
   "source": [
    "### Erstellen der sortierten Bündelliste"
   ]
  },
  {
   "cell_type": "code",
   "execution_count": 44,
   "metadata": {},
   "outputs": [],
   "source": [
    "list_buendel = sorted(rt.cursor.sql(\"select distinct buendel from linien where buendel not in ('nahsh')\").df()['buendel'].to_list())"
   ]
  },
  {
   "cell_type": "code",
   "execution_count": 45,
   "metadata": {},
   "outputs": [],
   "source": [
    "#Zellformatierung CSS\n",
    "cell_hover = {  # for row hover use <tr> instead of <td>\n",
    "    'selector': 'td:hover',\n",
    "    'props': [('background-color', '#ffffb3')]\n",
    "}\n",
    "index_names = {\n",
    "    'selector': '.index_name',\n",
    "    'props': 'font-style: italic; color: darkgrey; font-weight:normal; font-family: sans-serif; font-size: 15px;'\n",
    "}\n",
    "headers = {\n",
    "    'selector': 'th:not(.index_name)',\n",
    "    'props': 'background-color: #FFFFFF; color: #000000; font-family: sans-serif; font-size: 15px;text-orientation: upright;'\n",
    "}\n",
    "\n",
    "td = {'selector' : 'td', 'props': 'text-align:right; font-family: sans-serif; font-size: 14px;'}"
   ]
  },
  {
   "cell_type": "code",
   "execution_count": null,
   "metadata": {},
   "outputs": [],
   "source": [
    "rt.cursor.sql(\"\"\"describe fahrten\"\"\")"
   ]
  },
  {
   "cell_type": "code",
   "execution_count": null,
   "metadata": {},
   "outputs": [],
   "source": [
    "for b in list_buendel[8:9]:\n",
    "    print(b, b.replace(' ', '_').lower(), replace_german_special_characters(b).replace(' ', '_').lower())"
   ]
  },
  {
   "cell_type": "code",
   "execution_count": null,
   "metadata": {},
   "outputs": [],
   "source": [
    "func_proz = lambda s: str(int((1-s) * 1000)/10) + '%' if str(int(s)) != '-1' else '-'\n",
    "func_date = lambda s: s.dt.strftime('%m/%d/%Y')\n",
    "\n",
    "interval_auswertung = 21\n",
    "\n",
    "date_style = NamedStyle(name=\"date_style\", number_format=\"YYYY-MM-DD\")\n",
    "eine_nachkomma = NamedStyle(name = 'eine_nachkomma', number_format= '#,##0.0')\n",
    "zwei_nachkomma = NamedStyle(name = 'eine_nachkomma', number_format= '#,##0.00')\n",
    "\n",
    "for b in list_buendel:\n",
    "    print(b, b.replace(' ', '_').lower(), replace_german_special_characters(b).replace(' ', '_').lower())\n",
    "\n",
    "    rt.create_vw_buendel(b)\n",
    "    rt.create_vw_buendel_verlauf(buendel=b)\n",
    "    #Abfrage für die letzten 30 Tage\n",
    "    q_pivot_lm = rt.cursor.sql(f\"\"\"\n",
    "                        pivot (select \n",
    "                                datum::date as datum, ebene, lineshort, lineid_short, count(*) anz,\n",
    "                                count(*) filter (realtimeHasEverBeenReported ) anz_rt, round(anz_rt/ anz,2) anteil_rt\n",
    "                            from vw_buendel \n",
    "                            where datum >= (current_date - interval {interval_auswertung} day)\n",
    "                            group by all\n",
    "                            )\n",
    "                        on datum\n",
    "                        using sum(anteil_rt)\n",
    "                        group by lineshort, ebene\n",
    "                        order by ebene, lineshort\"\"\")\n",
    "    \n",
    "    #Liste der Fahrten ohne Echtzeit die häufiger als 1 mal vorkommen\n",
    "    df_fahrten_mit_nicht_vollstaendiger_echtzeit = rt.cursor.sql(f\"\"\"\n",
    "                select * from \n",
    "                    (select ebene, lineshort , fnr, count(*) as anz, count(*) filter (hasRealtime) as anz_ez, \n",
    "                    (anz - anz_ez) as fahrten_ohne_ez ,round(anz_ez/anz,2) as quote,\n",
    "                    max(datum::date) filter (realtimeHasEverBeenReported ) as letzte_lieferung_echtzeit\n",
    "                    from vw_buendel \n",
    "                    where datum >= (current_date - interval {interval_auswertung} day)\n",
    "                    group by all\n",
    "                    order by ebene, lineshort, fnr)\n",
    "                where fahrten_ohne_ez > 1 and ebene in ('1+','1', '2','Nacht') \n",
    "                    order by fahrten_ohne_ez desc                                                             \n",
    "                \n",
    "                \"\"\").df()\n",
    "    \n",
    "    df_fahrten_ohne_ez = rt.cursor.sql(f\"\"\"              \n",
    "                select datum::date as datum, ebene, lineshort , fnr, hasrealtime               \n",
    "                from vw_buendel \n",
    "                where datum >= (current_date - interval {interval_auswertung} day) and realtimeHasEverBeenReported  = false\n",
    "                group by all\n",
    "                order by ebene, lineshort, fnr\n",
    "    \n",
    "              \"\"\").df()\n",
    "    \n",
    "    df_fahrten_gesamt = rt.cursor.sql(f\"\"\"              \n",
    "                select *               \n",
    "                from vw_buendel \n",
    "                where datum >= (current_date - interval {interval_auswertung} day) \n",
    "                order by ebene, lineshort, fnr\n",
    "    \n",
    "              \"\"\").df()\n",
    "    \n",
    "    html_zusatz_table = 'html/pre_zusatz.html'\n",
    "    df_fahrten_ohne_ez_zusatz = df_fahrten_ohne_ez.merge(df_zusatz, left_on = ['datum', 'fnr'], right_on = ['datum', 'fnr'], how='left')\n",
    "    df_fahrten_ohne_ez_zusatz.query(\"~vu.isnull()\").to_html(html_zusatz_table, index=False)\n",
    "\n",
    "    html_pre_table = 'html/pre_table.html'\n",
    "    df_fahrten_mit_nicht_vollstaendiger_echtzeit.to_html(html_pre_table, index=False)\n",
    "\n",
    "    html_pre_pivot = 'html/pre_pivot.html'\n",
    "    q_pivot_lm.df().style.background_gradient(cmap=\"RdYlGn\", axis = None,  vmin=0.5, vmax=1).highlight_null(color='white')\\\n",
    "        .format( precision=2, na_rep='-', thousands=\" \")\\\n",
    "        .highlight_null(color='white')\\\n",
    "        .set_table_styles([index_names, headers, td])\\\n",
    "        .to_html(html_pre_pivot)\n",
    "    \n",
    "    # Save the HTML table to a file (optional)   \n",
    "    with open(html_pre_pivot, 'r') as file:\n",
    "        html_pre_pivot = file.read()\n",
    "    \n",
    "    # Load the HTML page template\n",
    "    with open('html/template.html', 'r') as file:\n",
    "        html_template = file.read()\n",
    "\n",
    "    # Insert the HTML table into the template\n",
    "    title = f\"Echtzeitquote Bündel {b} je Linie erstellt: {dt.datetime.now().strftime('%d.%m.%Y %H:%M')}\" \n",
    "    html_page = html_template.replace('{{ html_pivot }}', html_pre_pivot).replace('{{ html_title }}', title)\n",
    "\n",
    "    if df_fahrten_mit_nicht_vollstaendiger_echtzeit.shape[0] > 0:\n",
    "        html_page = html_page.replace('{{ html_table }}', df_fahrten_mit_nicht_vollstaendiger_echtzeit.to_html(index=False))\n",
    "    else:\n",
    "        html_page = html_page.replace('{{ html_table }}', \"Keine Häufung Fahrten ohne Echtzeit\")\n",
    "\n",
    "    if df_fahrten_ohne_ez_zusatz.query(\"~vu.isnull()\").shape[0] > 0:\n",
    "        html_page = html_page.replace('{{ html_table_zusatz }}', df_fahrten_ohne_ez_zusatz.query(\"~vu.isnull()\").to_html(index=False))\n",
    "    else:\n",
    "        html_page = html_page.replace('{{ html_table_zusatz }}', \"Keine Zusatzfahrten mit gleicher Fahrtnummer\")\n",
    "\n",
    "    # Save the combined HTML page to a file\n",
    "    html_combined = f\"/var/www/rt_archiv/buendel/rt_{replace_german_special_characters(b).replace(' ', '_').lower()}.html\"\n",
    "\n",
    "\n",
    "    with open(html_combined, 'w') as file:\n",
    "        file.write(html_page)\n",
    "\n",
    "\n",
    "    #Ausgabe der wichtigen Ergebnisse als Excel\n",
    "    xl = f\"buendel_stat/{replace_german_special_characters(b).replace(' ', '_').lower()}_stat.xlsx\"\n",
    "\n",
    "    sn00 = '01 hilfe'\n",
    "    sn01 = '02 statistik ebene'\n",
    "    sn02 = '03 statistik pivot'\n",
    "    sn03 = '04 fahrten gesamt'\n",
    "    sn04 = '05 verlauf' #nicht im Stadtverkehr\n",
    "\n",
    "    with pd.ExcelWriter(xl, engine='openpyxl') as writer:\n",
    "        writer.book.add_named_style(date_style)\n",
    "\n",
    "        df_vorfaelle = rt.df_vorfaelle_echtzeit()\n",
    "        df_vorfaelle.to_excel(writer, index=False, sheet_name=sn01)\n",
    "        writer.book[sn01].freeze_panes = 'A2'\n",
    "        writer.book[sn01].auto_filter.ref='A:F'\n",
    "        for row in writer.book[sn01].iter_rows(min_row=2, min_col=1, max_col=1):\n",
    "                for cell in row:\n",
    "                    cell.style = date_style\n",
    "\n",
    "        for row in writer.book[sn01].iter_rows(min_row=2, min_col=5, max_col=5):\n",
    "                for cell in row:\n",
    "                    cell.style = zwei_nachkomma\n",
    "        writer.book[sn01][f\"F{df_vorfaelle.shape[0]+3}\"] = f\"=SUBTOTAL(9, F2:F{df_vorfaelle.shape[0]+1})\"\n",
    "        writer.book[sn01].column_dimensions['A'].width = 15\n",
    "\n",
    "        q_pivot_lm.df().to_excel(writer, index=True, sheet_name=sn02)\n",
    "        writer.book[sn02].freeze_panes = 'A2'\n",
    "        writer.book[sn02].auto_filter.ref='A:H'\n",
    "\n",
    "        df_fahrten_gesamt.to_excel(writer, index=False, sheet_name=sn03)\n",
    "        writer.book[sn03].freeze_panes = 'A2'\n",
    "        writer.book[sn03].auto_filter.ref='A:N'\n",
    "        writer.book[sn03].column_dimensions['A'].width = 15\n",
    "        for row in writer.book[sn03].iter_rows(min_row=2, min_col=1, max_col=1):\n",
    "                for cell in row:\n",
    "                    cell.style = date_style\n",
    "\n",
    "        #Verlauf nicht im Verkehr\n",
    "        if b not in ('HB Bus', 'HB Tram', 'BHV', 'DEL', 'OL Stadt'):\n",
    "\n",
    "            rt.cursor.sql(\"\"\"from vw_buendel_verlauf\"\"\").df().to_excel(writer, index=False, sheet_name=sn04)\n",
    "            writer.book[sn04].freeze_panes = 'A2'\n",
    "            writer.book[sn04].auto_filter.ref='A:J'\n",
    "            writer.book[sn04].column_dimensions['A'].width = 15\n",
    "            writer.book[sn04].column_dimensions['F'].width = 30\n",
    "            for row in writer.book[sn04].iter_rows(min_row=2, min_col=1, max_col=1):\n",
    "                for cell in row:\n",
    "                    cell.style = date_style\n",
    "\n",
    "    # Öffnen des Workbooks und Anwenden der Formatierung\n",
    "    wb = openpyxl.load_workbook(xl)\n",
    "\n",
    "    #Erstellen des Hilfeblattes an erster Position\n",
    "    wb.create_sheet(sn00, index=0)\n",
    "    sheet = wb[sn00]\n",
    "    sheet['A1'] = f\"Erstellt: {dt.datetime.now().strftime('%Y-%m-%d %H:%M')}\"\n",
    "    sheet['A2'] =  \"Erläuterung der Werte in der Tabelle\"\n",
    "    sheet['A3'] = f\"Blatt {sn01} enthält die Echtzeitquote der Ebenen des Bündels {b} für die letzten {interval_auswertung} Tage\"\n",
    "    sheet['A4'] = f\"Blatt {sn02} enthält die Echtzeitquote der Linien des Bündels {b} für die letzten {interval_auswertung} Tage\"\n",
    "    sheet['A5'] = f\"Blatt {sn03} filterbare Liste der Fahrten {b} für die letzten {interval_auswertung} Tage\"\n",
    "\n",
    "    wb.save(xl)       "
   ]
  },
  {
   "cell_type": "markdown",
   "metadata": {},
   "source": [
    "### Upload nach Redmine"
   ]
  },
  {
   "cell_type": "code",
   "execution_count": null,
   "metadata": {},
   "outputs": [],
   "source": [
    "list_excel = glob.glob('buendel_stat/*.xlsx')\n",
    "list_redmine = pd.read_csv('input/folder_vms.csv', sep=';', quotechar=\"'\")['buen'].to_list()\n",
    "df_redmine  = pd.read_csv('input/folder_vms.csv', sep=';', quotechar=\"'\")\n",
    "\n",
    "for b in list_buendel:\n",
    "    b_clean = replace_german_special_characters(b).replace(' ', '_').lower()\n",
    "    folder_file_name = os.path.join('buendel_stat', f\"{b_clean}_stat.xlsx\") \n",
    "    file_name =  f\"{b_clean}_stat.xlsx\"\n",
    "\n",
    "    shutil.copyfile(folder_file_name, f'/var/www/rt_archiv/{file_name}')\n",
    "\n",
    "    if b_clean not in list_redmine:\n",
    "        print(f\"not in {b_clean}\")\n",
    "    \n",
    "    else:\n",
    "        print(f\"{b} in {b_clean}\")\n",
    "        project_url = df_redmine.query(f\"buen == '{b_clean}'\").reset_index().at[0, 'project_url']\n",
    "        folder_id = df_redmine.query(f\"buen == '{b_clean}'\").reset_index().at[0, 'folder_id']\n",
    "\n",
    "        delete_upload_dmsf(project_url=project_url, folder_id=folder_id, file_name=file_name, folder_file_name=folder_file_name)\n",
    "        logging.info(f\"{folder_file_name} hochgeladen\")\n"
   ]
  },
  {
   "cell_type": "code",
   "execution_count": 34,
   "metadata": {},
   "outputs": [],
   "source": [
    "logging.info(f\"Anzahl Fahrten gesamt {rt.anzahl_fahrten()}\")"
   ]
  },
  {
   "cell_type": "code",
   "execution_count": null,
   "metadata": {},
   "outputs": [],
   "source": [
    "rt.verbindung_schliessen()"
   ]
  }
 ],
 "metadata": {
  "kernelspec": {
   "display_name": "geo3112",
   "language": "python",
   "name": "python3"
  },
  "language_info": {
   "codemirror_mode": {
    "name": "ipython",
    "version": 3
   },
   "file_extension": ".py",
   "mimetype": "text/x-python",
   "name": "python",
   "nbconvert_exporter": "python",
   "pygments_lexer": "ipython3",
   "version": "3.11.9"
  }
 },
 "nbformat": 4,
 "nbformat_minor": 2
}
