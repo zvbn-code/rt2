{
 "cells": [
  {
   "cell_type": "markdown",
   "metadata": {},
   "source": [
    "# Auswertung der Parquet Dateien aus dem Echtzeitarchiv V14"
   ]
  },
  {
   "cell_type": "markdown",
   "metadata": {},
   "source": [
    "## Import der Module und Setzen Parameter"
   ]
  },
  {
   "cell_type": "code",
   "execution_count": 1,
   "metadata": {},
   "outputs": [],
   "source": [
    "import duckdb\n",
    "import pandas as pd\n",
    "import seaborn as sns\n",
    "import sys\n",
    "from dotenv import load_dotenv\n",
    "import os\n",
    "import openpyxl\n",
    "\n",
    "import datetime as dt\n",
    "import importlib\n",
    "\n",
    "from dotenv import load_dotenv, dotenv_values\n",
    "from redmine import delete_upload_dmsf\n",
    "import logging\n",
    "import glob"
   ]
  },
  {
   "cell_type": "code",
   "execution_count": null,
   "metadata": {},
   "outputs": [],
   "source": [
    "log_file = \"log/log_rt.txt\"\n",
    "logging.basicConfig(filename=log_file, \n",
    "                        level=logging.DEBUG,\n",
    "                        style=\"{\",\n",
    "                        format=\"{asctime} [{levelname:8}] {message}\",\n",
    "                        datefmt=\"%d.%m.%Y %H:%M:%S\")\n",
    "\n",
    "load_dotenv()"
   ]
  },
  {
   "cell_type": "code",
   "execution_count": 6,
   "metadata": {},
   "outputs": [],
   "source": [
    "sys.path.append('/home/zvbn/python/rt2')"
   ]
  },
  {
   "cell_type": "code",
   "execution_count": 7,
   "metadata": {},
   "outputs": [],
   "source": [
    "from class_rt_duck import RtDuck"
   ]
  },
  {
   "cell_type": "code",
   "execution_count": 5,
   "metadata": {},
   "outputs": [],
   "source": [
    "logging.info(\"Auswertung RT aus parquet gestartet\")"
   ]
  },
  {
   "cell_type": "code",
   "execution_count": 6,
   "metadata": {},
   "outputs": [],
   "source": [
    "config = dotenv_values(\".env\")\n",
    "#config"
   ]
  },
  {
   "cell_type": "code",
   "execution_count": 7,
   "metadata": {},
   "outputs": [],
   "source": [
    "pd.options.display.max_columns = 100"
   ]
  },
  {
   "cell_type": "code",
   "execution_count": null,
   "metadata": {},
   "outputs": [],
   "source": [
    "jetzt = dt.datetime.now().strftime('%Y-%m-%d %H:%M:%S')\n",
    "gestern= (dt.date.today() - dt.timedelta(1)).strftime('%Y-%m-%d')\n",
    "letzte07tage= (dt.date.today() - dt.timedelta(7)).strftime('%Y-%m-%d')\n",
    "letzte14tage= (dt.date.today() - dt.timedelta(14)).strftime('%Y-%m-%d')\n",
    "letzte21tage= (dt.date.today() - dt.timedelta(21)).strftime('%Y-%m-%d')\n",
    "\n",
    "print(jetzt, letzte21tage)"
   ]
  },
  {
   "cell_type": "markdown",
   "metadata": {},
   "source": [
    "## Funktionen"
   ]
  },
  {
   "cell_type": "code",
   "execution_count": 43,
   "metadata": {},
   "outputs": [],
   "source": [
    "def replace_german_special_characters(text) -> str:\n",
    "    replacements = {\n",
    "        'ä': 'ae',\n",
    "        'ö': 'oe',\n",
    "        'ü': 'ue',\n",
    "        'Ä': 'Ae',\n",
    "        'Ö': 'Oe',\n",
    "        'Ü': 'Ue',\n",
    "        'ß': 'ss'\n",
    "    }\n",
    "    \n",
    "    for german_char, replacement in replacements.items():\n",
    "        text = text.replace(german_char, replacement)\n",
    "    \n",
    "    return text"
   ]
  },
  {
   "cell_type": "code",
   "execution_count": 44,
   "metadata": {},
   "outputs": [],
   "source": [
    "#für die Formatierung der Ausgabe in html\n",
    "func_proz = lambda s: str(int((1-s) * 1000)/10) + '%' if str(int(s)) != '-1' else '-'\n",
    "func_date = lambda s: s.dt.strftime('%m/%d/%Y')"
   ]
  },
  {
   "cell_type": "markdown",
   "metadata": {},
   "source": [
    "## CSS Styles"
   ]
  },
  {
   "cell_type": "code",
   "execution_count": 11,
   "metadata": {},
   "outputs": [],
   "source": [
    "#Zellformatierung CSS\n",
    "cell_hover = {  # for row hover use <tr> instead of <td>\n",
    "    'selector': 'td:hover',\n",
    "    'props': [('background-color', '#ffffb3')]\n",
    "}\n",
    "index_names = {\n",
    "    'selector': '.index_name',\n",
    "    'props': 'font-style: italic; color: darkgrey; font-weight:normal; font-family: sans-serif;'\n",
    "}\n",
    "headers = {\n",
    "    'selector': 'th:not(.index_name)',\n",
    "    'props': 'background-color: #FFFFFF; color: #000000; font-family: sans-serif;'\n",
    "}\n",
    "\n",
    "td = {'selector' : 'td', 'props': 'text-align:right; font-family: sans-serif'}"
   ]
  },
  {
   "cell_type": "markdown",
   "metadata": {},
   "source": [
    "## Testen der class"
   ]
  },
  {
   "cell_type": "code",
   "execution_count": null,
   "metadata": {},
   "outputs": [],
   "source": [
    "rt = RtDuck()\n",
    "rt"
   ]
  },
  {
   "cell_type": "code",
   "execution_count": 10,
   "metadata": {},
   "outputs": [],
   "source": [
    "#Schließen der Verbindung\n",
    "#rt.verbindung_schliessen()"
   ]
  },
  {
   "cell_type": "code",
   "execution_count": null,
   "metadata": {},
   "outputs": [],
   "source": [
    "rt.create_table_fahrten(server = 'prod')"
   ]
  },
  {
   "cell_type": "code",
   "execution_count": null,
   "metadata": {},
   "outputs": [],
   "source": [
    "rt.create_table_zusatz(server = 'prod')\n",
    "rt.create_table_verlauf(server = 'prod')\n",
    "rt.create_table_matrix(server = 'prod')"
   ]
  },
  {
   "cell_type": "code",
   "execution_count": null,
   "metadata": {},
   "outputs": [],
   "source": [
    "rt.cursor.sql(\"describe fahrten\")"
   ]
  },
  {
   "cell_type": "code",
   "execution_count": null,
   "metadata": {},
   "outputs": [],
   "source": [
    "rt.cursor.sql(\"select lineid, lineid_short, * from fahrten where datum::date = '2025-01-12' and lineid like 'de:VBN:740%'\")"
   ]
  },
  {
   "cell_type": "code",
   "execution_count": 15,
   "metadata": {},
   "outputs": [],
   "source": [
    "df_line_clientid = rt.cursor.sql(\"\"\"select distinct lineid_short, clientid, max(datum) as max_datum\n",
    "                                 from fahrten \n",
    "                                 where datum >= (current_date - interval 7 day) \n",
    "                                 group by all\n",
    "                                 order by  clientid, lineid_short\"\"\").df()"
   ]
  },
  {
   "cell_type": "code",
   "execution_count": null,
   "metadata": {},
   "outputs": [],
   "source": [
    "rt.cursor.sql( \"\"\"select f.lineid_short, datum::date as datum, buendel, \n",
    "                round((count (*) filter (realtimeHasEverBeenReported = true) / count(*) ) * 100, 1) as anteil_ez  \n",
    "              from fahrten f \n",
    "                join linien l on f.lineid_short = l.dlid \n",
    "              \n",
    "              where datum::date = '2025-01-12'\n",
    "              group by all\"\"\")"
   ]
  },
  {
   "cell_type": "markdown",
   "metadata": {},
   "source": [
    "## Erstellen der Statistiken log_12_pivot und log_3_pivot"
   ]
  },
  {
   "cell_type": "code",
   "execution_count": 17,
   "metadata": {},
   "outputs": [],
   "source": [
    "def sql_ebenen(ebenen):\n",
    "            sql = f\"\"\" \n",
    "              select datum::date::text as datum, buendel, \n",
    "                round((count (*) filter (realtimeHasEverBeenReported = true) / count(*) ) * 100, 1) as anteil_ez  \n",
    "              from fahrten f \n",
    "                join linien l on f.lineid_short = l.dlid \n",
    "              where \n",
    "                f.datum > (current_date - interval 60 day)\n",
    "              and ebene in {ebenen}\n",
    "              group by all\"\"\"\n",
    "            \n",
    "            return sql\n"
   ]
  },
  {
   "cell_type": "code",
   "execution_count": 19,
   "metadata": {},
   "outputs": [],
   "source": [
    "#Zellformatierung CSS\n",
    "cell_hover = {  # for row hover use <tr> instead of <td>\n",
    "    'selector': 'td:hover',\n",
    "    'props': [('background-color', '#ffffb3')]\n",
    "}\n",
    "index_names = {\n",
    "    'selector': '.index_name',\n",
    "    'props': 'font-style: italic; color: darkgrey; font-weight:normal; font-family: sans-serif;'\n",
    "}\n",
    "headers = {\n",
    "    'selector': 'th:not(.index_name)',\n",
    "    'props': 'background-color: #FFFFFF; color: #000000; font-family: sans-serif;'\n",
    "}\n",
    "\n",
    "td = {'selector' : 'td', 'props': 'text-align:right; font-family: sans-serif'}"
   ]
  },
  {
   "cell_type": "code",
   "execution_count": null,
   "metadata": {},
   "outputs": [],
   "source": [
    "ebenen = ('1+', '1', '2', 'Stadt', 'Nacht')\n",
    "df = rt.cursor.sql(sql_ebenen(ebenen=ebenen)).df()\n",
    "df_pivot = df.pivot(index='datum', columns='buendel', values='anteil_ez')\n",
    "df_pivot.sort_values('datum', ascending=False).style.background_gradient(cmap=\"RdYlGn\", axis = None,  vmin=0.0, vmax=95)\\\n",
    "    .highlight_null(color='white').format(formatter = '{:.1f}%', precision=1, na_rep='-', thousands=\" \", decimal= ',').set_table_styles([index_names, headers, td])\\\n",
    "        .to_html('/var/www/rt_archiv/log_12_pivot.html', encoding='LATIN1')"
   ]
  },
  {
   "cell_type": "code",
   "execution_count": 21,
   "metadata": {},
   "outputs": [],
   "source": [
    "ebenen = \"('3')\"\n",
    "df = rt.cursor.sql(sql_ebenen(ebenen=ebenen)).df()\n",
    "df_pivot = df.pivot(index='datum', columns='buendel', values='anteil_ez')\n",
    "df_pivot.sort_values('datum', ascending=False).style.background_gradient(cmap=\"RdYlGn\", axis = None,  vmin=0.0, vmax=95)\\\n",
    "    .highlight_null(color='white').format(formatter = '{:.1f}%', precision=1, na_rep='-', thousands=\" \", decimal= ',').set_table_styles([index_names, headers, td])\\\n",
    "        .to_html('/var/www/rt_archiv/log_3_pivot.html', encoding='LATIN1')"
   ]
  },
  {
   "cell_type": "code",
   "execution_count": null,
   "metadata": {},
   "outputs": [],
   "source": [
    "rt.anzahl_fahrten_betreiber()"
   ]
  },
  {
   "cell_type": "code",
   "execution_count": 23,
   "metadata": {},
   "outputs": [],
   "source": [
    "rt.anzahl_fahrten_betreiber().to_html('/var/www/rt_archiv/anzahl_fahrten_betreiber.html', encoding='LATIN1')"
   ]
  },
  {
   "cell_type": "markdown",
   "metadata": {},
   "source": [
    "## Ermitteln der Fahrten, die nur 0 Min senden"
   ]
  },
  {
   "cell_type": "code",
   "execution_count": 24,
   "metadata": {},
   "outputs": [],
   "source": [
    "rt.cursor.sql(\"\"\"select ex_lineid, fnr,min(operday) as start, max(operday) as ende ,count(*) as count from (\n",
    "                select * from \n",
    "                    (select operday, ex_lineid, fnr, avg(dep_del) as avg_del\n",
    "                    from verlauf \n",
    "                    where dep_del is not null\n",
    "                    and has_rt = true\n",
    "                    group by all)\n",
    "                where avg_del = 0 and ex_lineid like 'de:VBN:6__:%'\n",
    "                order by ex_lineid) \n",
    "              \n",
    "              group by all\n",
    "              order by count desc\n",
    "              \"\"\").df().to_excel('out/verlauf_0min.xlsx', index=False)"
   ]
  },
  {
   "cell_type": "code",
   "execution_count": 25,
   "metadata": {},
   "outputs": [],
   "source": [
    "rt.cursor.sql(\"select * from verlauf where fnr = '1630018'\").df().to_excel('out/verlauf_1630018.xlsx', index=False)"
   ]
  },
  {
   "cell_type": "code",
   "execution_count": null,
   "metadata": {},
   "outputs": [],
   "source": [
    "suffix = 'mitte'\n",
    "#auswahl_linien = '680|660|N68'\n",
    "auswahl_linien = '630|670|N63|N67'\n",
    "\n",
    "df_auswahl_ohne_rt = rt.cursor.sql(f\"\"\"select * from\n",
    "              (select lineshort, min(datum)::date as min_datum, max(datum)::date as max_datum, fnr, \n",
    "              count(* ) as anzahl, \n",
    "              count(* ) filter (hasRealtime  = false ) as anzahl_ohne_rt, \n",
    "              anzahl_ohne_rt / count(* ) as proz_ohne_rt\n",
    "              from fahrten  \n",
    "              where lineid  SIMILAR TO '.*({auswahl_linien}).*' \n",
    "              -- and hasRealtime  = false \n",
    "              and datum  >= (current_date() - interval 28 days)\n",
    "              group by all\n",
    "              )\n",
    "              where anzahl_ohne_rt > 1\n",
    "              order by proz_ohne_rt desc\n",
    "\n",
    "              -- limit 10\"\"\").df()\n",
    "\n",
    "df_zusatz = rt.cursor.sql(f\"\"\"select * from zusatz where lineid  SIMILAR TO 'de:VBN:.*({auswahl_linien}).*' \"\"\").df()\n",
    "\n",
    "ohne_rt_xl = f\"out/rt_ohne_realtime_{suffix}.xlsx\"\n",
    "sn01 = 'ohne_rt'\n",
    "with pd.ExcelWriter(ohne_rt_xl, engine='openpyxl') as writer:\n",
    "    df_auswahl_ohne_rt.to_excel(writer, sheet_name=sn01, index=False)\n",
    "    worksheet = writer.sheets[sn01]\n",
    "    worksheet.freeze_panes = 'a2'\n",
    "\n",
    "    worksheet.column_dimensions['B'].width = 15\n",
    "    worksheet.column_dimensions['C'].width = 15\n",
    "    worksheet.auto_filter.ref = worksheet.dimensions\n",
    "\n",
    "    # Format the 'Zeit' column as date\n",
    "    for cell in worksheet['B']:  # Assuming 'Zeit' is in column D\n",
    "        if cell.row == 1:  # Skip the header row\n",
    "            continue\n",
    "        cell.number_format = 'YYYY-MM-DD'\n",
    "\n",
    "    # Format the 'Zeit' column as date\n",
    "    for cell in worksheet['C']:  # Assuming 'Zeit' is in column D\n",
    "        if cell.row == 1:  # Skip the header row\n",
    "            continue\n",
    "        cell.number_format = 'YYYY-MM-DD'\n",
    "\n",
    "    # Format the 'Prozent' column as percentage\n",
    "    for cell in worksheet['G']:  # Assuming 'Prozent' is in column D\n",
    "        if cell.row == 1:  # Skip the header row\n",
    "            continue\n",
    "        cell.number_format = '0.0%'\n",
    " \n",
    "df_zusatz"
   ]
  },
  {
   "cell_type": "code",
   "execution_count": null,
   "metadata": {},
   "outputs": [],
   "source": [
    "df_linien_quote_rt = rt.cursor.sql(\"\"\"\n",
    "            select * from\n",
    "              ( select lineshort, min(datum)::date as min_datum, max(datum)::date as max_datum,  \n",
    "                    count(* ) as anzahl, \n",
    "                    count(* ) filter (hasRealtime  = false ) as anzahl_ohne_rt, \n",
    "                    anzahl_ohne_rt / count(* ) as proz_ohne_rt\n",
    "                from fahrten  \n",
    "                where \n",
    "                -- and hasRealtime  = false \n",
    "                    datum  >= (current_date() - interval 28 days)\n",
    "                group by all\n",
    "              )\n",
    "              where anzahl_ohne_rt > 1\n",
    "              order by proz_ohne_rt desc\n",
    "\n",
    "              -- limit 10\"\"\").df()\n",
    "\n",
    "df_linien_quote_rt"
   ]
  },
  {
   "cell_type": "code",
   "execution_count": null,
   "metadata": {},
   "outputs": [],
   "source": [
    "df_zusatz"
   ]
  },
  {
   "cell_type": "markdown",
   "metadata": {},
   "source": [
    "### Auswertung Matrix nach Verlauf Zeitpunkt der Meldung"
   ]
  },
  {
   "cell_type": "code",
   "execution_count": 29,
   "metadata": {},
   "outputs": [],
   "source": [
    "df_matrix = rt.cursor.sql(\"\"\"select m.operatingDay::date, m.lineShortName, m.journeyId, v.index, \n",
    "                          m.stationName, m.scheduleDeparture,m.delay_minutes_arrival, m.delay_minutes_departure, m.timestamp, v.arr_del, v.dep_del\n",
    "                from matrix m\n",
    "                left join verlauf v on \n",
    "                          m.operatingDay = v.operday and \n",
    "                          m.lineShortName = v.lineshortname and \n",
    "                          m.journeyId = v.fnr and \n",
    "                          m.stationName = v.station_name\n",
    "                where stop_cancelled = false\n",
    "              and m.lineShortName = 'RS3'\n",
    "              order by  m.operatingDay, m.externalLineId, m.journeyId, v.index,  m.timestamp \n",
    "              \n",
    "              -- limit 20\"\"\").df()"
   ]
  },
  {
   "cell_type": "code",
   "execution_count": null,
   "metadata": {},
   "outputs": [],
   "source": [
    "auswahl_linien = '630|670|N68|N63|N67'\n",
    "df_zusatz = rt.cursor.sql(f\"\"\"\n",
    "                select datum::date as datum, lineshort,lineid ,fnr,  vu \n",
    "                from zusatz \n",
    "                where                       \n",
    "\n",
    "                    lineid SIMILAR TO 'de:VBN:.*({auswahl_linien}).*' and \n",
    "                    -- and vu like 'Reisedienst von Rahden%' \n",
    "                    datum::date >= (current_date - interval 30 day)\n",
    "                group by all \n",
    "                order by lineshort, fnr \"\"\").df()\n",
    "\n",
    "df_zusatz\n",
    "\n",
    "#rt.cursor.sql(f\"\"\"select * from zusatz where lineid  SIMILAR TO 'de:VBN:.*({auswahl_linien}).*' and datum::date >= (current_date - interval 30 day)\"\"\").df()"
   ]
  },
  {
   "cell_type": "code",
   "execution_count": null,
   "metadata": {},
   "outputs": [],
   "source": [
    "rt.cursor.sql(\"select min(datum )::date as min_date, max(datum)::date as amx_date, count(*) as anzahl from fahrten\")"
   ]
  },
  {
   "cell_type": "code",
   "execution_count": 32,
   "metadata": {},
   "outputs": [],
   "source": [
    "rt.create_vw_buendel('TN 5 CUX')"
   ]
  },
  {
   "cell_type": "code",
   "execution_count": null,
   "metadata": {},
   "outputs": [],
   "source": [
    "rt.cursor.sql(\"select * from vw_buendel\").df()"
   ]
  },
  {
   "cell_type": "markdown",
   "metadata": {},
   "source": [
    "### Häufung von Fahrten ohne Echtzeit"
   ]
  },
  {
   "cell_type": "code",
   "execution_count": 34,
   "metadata": {},
   "outputs": [],
   "source": [
    "df_fahrten_ohne_ez = rt.cursor.sql(\"\"\"\n",
    "              \n",
    "                select datum::date as datum, ebene, lineshort , fnr, hasrealtime\n",
    "               \n",
    "                from vw_buendel \n",
    "                where datum >= (current_date - interval 30 day) and hasrealtime = false\n",
    "                group by all\n",
    "                order by ebene, lineshort, fnr\n",
    "    \n",
    "              \"\"\").df()\n",
    "\n",
    "df_fahrten_ohne_ez_zusatz = df_fahrten_ohne_ez.merge(df_zusatz, left_on = ['datum', 'fnr'], right_on = ['datum', 'fnr'], how='left')\n",
    "df_fahrten_ohne_ez_zusatz.query(\"~vu.isnull()\") \n",
    "\n",
    "df_fahrten_ohne_ez_zusatz[['lineshort_x','datum','fnr']].groupby(['lineshort_x','fnr'], as_index=False)\\\n",
    "    .agg(datum_min=('datum', 'min'), datum_max=('datum', 'max'), count=('datum', 'count')).sort_values('count', ascending=False)\\\n",
    "    .to_excel('out/rt_fahrten_ohne_ez_zusatz.xlsx', index=False)"
   ]
  },
  {
   "cell_type": "code",
   "execution_count": null,
   "metadata": {},
   "outputs": [],
   "source": [
    "df_fahrten_ohne_ez_zusatz.query(\"~vu.isnull()\")"
   ]
  },
  {
   "cell_type": "code",
   "execution_count": null,
   "metadata": {},
   "outputs": [],
   "source": [
    "interval_auswertung = 21\n",
    "df_fahrten_mit_nicht_vollstaendiger_echtzeit = rt.cursor.sql(f\"\"\"\n",
    "            select * from \n",
    "                (select ebene, lineshort , fnr, count(*) as anz, count(*) filter (hasRealtime) as anz_rt, \n",
    "                    (anz - anz_rt) as f_ohne_rt ,round(anz_rt/anz,2) as quote,\n",
    "                    max(datum::date) filter (hasRealtime) as letzte_lieferung_echtzeit\n",
    "                from vw_buendel \n",
    "                where datum >= (current_date - interval {interval_auswertung} day)\n",
    "                group by all\n",
    "                order by ebene, lineshort, fnr)\n",
    "            where f_ohne_rt > 1 and ebene in ('1+','1', '2') \n",
    "            order by f_ohne_rt desc                                                             \n",
    "            \"\"\").df()\n",
    "\n",
    "df_fahrten_mit_nicht_vollstaendiger_echtzeit"
   ]
  },
  {
   "cell_type": "code",
   "execution_count": 37,
   "metadata": {},
   "outputs": [],
   "source": [
    "xl = 'out/nicht_vollstaendig.xlsx'\n",
    "sn01 = '01 fahrten_rt_kl_100_roz'\n",
    "sn02 = '02 zusatzfahrten'\n",
    "sn03 = '03 ohne ez merge zusatz'\n",
    "\n",
    "with pd.ExcelWriter(xl, engine='openpyxl') as writer: \n",
    "    df_fahrten_mit_nicht_vollstaendiger_echtzeit.to_excel(writer, index=False, sheet_name=sn01)\n",
    "    writer.book[sn01].freeze_panes = 'A2'\n",
    "    writer.book[sn01].auto_filter.ref='A:H'\n",
    "\n",
    "    df_zusatz.to_excel(writer, index=False, sheet_name=sn02)\n",
    "    writer.book[sn02].freeze_panes = 'A2'\n",
    "    writer.book[sn02].auto_filter.ref='A:H'\n",
    "\n",
    "    df_fahrten_ohne_ez_zusatz.to_excel(writer, index=False, sheet_name=sn03)\n",
    "    writer.book[sn03].freeze_panes = 'A2'\n",
    "    writer.book[sn03].auto_filter.ref='A:H'\n"
   ]
  },
  {
   "cell_type": "code",
   "execution_count": null,
   "metadata": {},
   "outputs": [],
   "source": [
    "q = rt.cursor.sql(\"\"\"\n",
    "                   (select \n",
    "                    datum::date as datum, ebene, lineshort, lineid_short, count(*) anz,\n",
    "                    count(*) filter (hasRealtime) anz_rt, round(anz_rt/ anz,2) anteil_rt, \n",
    "                    max(datum) filter (hasRealtime) letzte_lieferung\n",
    "                    from vw_buendel \n",
    "                    where datum >= date_trunc('month', (date_trunc('month',current_date) - interval 1 day)::date)\n",
    "                    and datum <= (date_trunc('month',current_date) - interval 1 day)::date\n",
    "                  \n",
    "                    group by all\n",
    "\n",
    "                    order by datum::date)\n",
    "                  \"\"\")\n",
    "#q.filter(\"lineshort in ('S35', '350')\") #mit filter einfache Abfragen\n",
    "\n",
    "q"
   ]
  },
  {
   "cell_type": "code",
   "execution_count": null,
   "metadata": {},
   "outputs": [],
   "source": [
    "#Abfrage für den letzten Monat\n",
    "q_pivot_lm = rt.cursor.sql(\"\"\"\n",
    "                    pivot (select \n",
    "                            datum::date as datum, ebene, lineshort, lineid_short, count(*) anz,\n",
    "                            count(*) filter (hasRealtime) anz_rt, round(anz_rt/ anz,2) anteil_rt\n",
    "                        from vw_buendel \n",
    "                        where datum >= date_trunc('month', (date_trunc('month',current_date) - interval 1 day)::date)\n",
    "                            and datum <= (date_trunc('month',current_date) - interval 1 day)::date\n",
    "                        group by all\n",
    "                        )\n",
    "                    on datum\n",
    "                    using sum(anteil_rt)\n",
    "                    group by lineshort, ebene\n",
    "                    order by ebene, lineshort\"\"\")\n",
    "\n",
    "q_pivot_lm.df().fillna('-')"
   ]
  },
  {
   "cell_type": "markdown",
   "metadata": {},
   "source": [
    "## Ausgabe je Bündel als html / xlsx"
   ]
  },
  {
   "cell_type": "code",
   "execution_count": 40,
   "metadata": {},
   "outputs": [],
   "source": [
    "list_buendel = rt.cursor.sql(\"select distinct buendel from linien where buendel not in ('nahsh')\").df()['buendel'].to_list()"
   ]
  },
  {
   "cell_type": "code",
   "execution_count": 41,
   "metadata": {},
   "outputs": [],
   "source": [
    "#Zellformatierung CSS\n",
    "cell_hover = {  # for row hover use <tr> instead of <td>\n",
    "    'selector': 'td:hover',\n",
    "    'props': [('background-color', '#ffffb3')]\n",
    "}\n",
    "index_names = {\n",
    "    'selector': '.index_name',\n",
    "    'props': 'font-style: italic; color: darkgrey; font-weight:normal; font-family: sans-serif; font-size: 15px;'\n",
    "}\n",
    "headers = {\n",
    "    'selector': 'th:not(.index_name)',\n",
    "    'props': 'background-color: #FFFFFF; color: #000000; font-family: sans-serif; font-size: 15px;text-orientation: upright;'\n",
    "}\n",
    "\n",
    "td = {'selector' : 'td', 'props': 'text-align:right; font-family: sans-serif; font-size: 14px;'}"
   ]
  },
  {
   "cell_type": "code",
   "execution_count": null,
   "metadata": {},
   "outputs": [],
   "source": [
    "rt.cursor.sql(\"\"\"describe fahrten\"\"\")"
   ]
  },
  {
   "cell_type": "code",
   "execution_count": null,
   "metadata": {},
   "outputs": [],
   "source": [
    "func_proz = lambda s: str(int((1-s) * 1000)/10) + '%' if str(int(s)) != '-1' else '-'\n",
    "func_date = lambda s: s.dt.strftime('%m/%d/%Y')\n",
    "\n",
    "interval_auswertung = 21\n",
    "\n",
    "for b in list_buendel:\n",
    "    print(b, b.replace(' ', '_').lower(), replace_german_special_characters(b).replace(' ', '_').lower())\n",
    "\n",
    "    rt.create_vw_buendel(b)\n",
    "    #Abfrage für die letzten 30 Tage\n",
    "    q_pivot_lm = rt.cursor.sql(f\"\"\"\n",
    "                        pivot (select \n",
    "                                datum::date as datum, ebene, lineshort, lineid_short, count(*) anz,\n",
    "                                count(*) filter (hasRealtime) anz_rt, round(anz_rt/ anz,2) anteil_rt\n",
    "                            from vw_buendel \n",
    "                            where datum >= (current_date - interval {interval_auswertung} day)\n",
    "                            group by all\n",
    "                            )\n",
    "                        on datum\n",
    "                        using sum(anteil_rt)\n",
    "                        group by lineshort, ebene\n",
    "                        order by ebene, lineshort\"\"\")\n",
    "    \n",
    "    #Liste der Fahrten ohne Echtzeit die häufiger als 1 mal vorkommen\n",
    "    df_fahrten_mit_nicht_vollstaendiger_echtzeit = rt.cursor.sql(f\"\"\"\n",
    "                select * from \n",
    "                    (select ebene, lineshort , fnr, count(*) as anz, count(*) filter (hasRealtime) as anz_ez, \n",
    "                    (anz - anz_ez) as fahrten_ohne_ez ,round(anz_ez/anz,2) as quote,\n",
    "                    max(datum::date) filter (hasRealtime) as letzte_lieferung_echtzeit\n",
    "                    from vw_buendel \n",
    "                    where datum >= (current_date - interval {interval_auswertung} day)\n",
    "                    group by all\n",
    "                    order by ebene, lineshort, fnr)\n",
    "                where fahrten_ohne_ez > 1 and ebene in ('1+','1', '2','Nacht') \n",
    "                    order by fahrten_ohne_ez desc                                                             \n",
    "                \n",
    "                \"\"\").df()\n",
    "    \n",
    "    df_fahrten_ohne_ez = rt.cursor.sql(f\"\"\"              \n",
    "                select datum::date as datum, ebene, lineshort , fnr, hasrealtime               \n",
    "                from vw_buendel \n",
    "                where datum >= (current_date - interval {interval_auswertung} day) and hasrealtime = false\n",
    "                group by all\n",
    "                order by ebene, lineshort, fnr\n",
    "    \n",
    "              \"\"\").df()\n",
    "    \n",
    "    df_fahrten_gesamt = rt.cursor.sql(f\"\"\"              \n",
    "                select *               \n",
    "                from vw_buendel \n",
    "                where datum >= (current_date - interval {interval_auswertung} day) \n",
    "                order by ebene, lineshort, fnr\n",
    "    \n",
    "              \"\"\").df()\n",
    "    \n",
    "    html_zusatz_table = 'html/pre_zusatz.html'\n",
    "    df_fahrten_ohne_ez_zusatz = df_fahrten_ohne_ez.merge(df_zusatz, left_on = ['datum', 'fnr'], right_on = ['datum', 'fnr'], how='left')\n",
    "    df_fahrten_ohne_ez_zusatz.query(\"~vu.isnull()\").to_html(html_zusatz_table, index=False)\n",
    "\n",
    "    html_pre_table = 'html/pre_table.html'\n",
    "    df_fahrten_mit_nicht_vollstaendiger_echtzeit.to_html(html_pre_table, index=False)\n",
    "\n",
    "    html_pre_pivot = 'html/pre_pivot.html'\n",
    "    q_pivot_lm.df().style.background_gradient(cmap=\"RdYlGn\", axis = None,  vmin=0.5, vmax=1).highlight_null(color='white')\\\n",
    "        .format( precision=2, na_rep='-', thousands=\" \")\\\n",
    "        .highlight_null(color='white')\\\n",
    "        .set_table_styles([index_names, headers, td])\\\n",
    "        .to_html(html_pre_pivot)\n",
    "    \n",
    "    # Save the HTML table to a file (optional)   \n",
    "    with open(html_pre_pivot, 'r') as file:\n",
    "        html_pre_pivot = file.read()\n",
    "    \n",
    "    # Load the HTML page template\n",
    "    with open('html/template.html', 'r') as file:\n",
    "        html_template = file.read()\n",
    "\n",
    "    # Insert the HTML table into the template\n",
    "    title = f\"Echtzeitquote Bündel {b} je Linie erstellt: {dt.datetime.now().strftime('%d.%m.%Y %H:%M')}\" \n",
    "    html_page = html_template.replace('{{ html_pivot }}', html_pre_pivot).replace('{{ html_title }}', title)\n",
    "\n",
    "    if df_fahrten_mit_nicht_vollstaendiger_echtzeit.shape[0] > 0:\n",
    "        html_page = html_page.replace('{{ html_table }}', df_fahrten_mit_nicht_vollstaendiger_echtzeit.to_html(index=False))\n",
    "    else:\n",
    "        html_page = html_page.replace('{{ html_table }}', \"Keine Häufung Fahrten ohne Echtzeit\")\n",
    "\n",
    "    if df_fahrten_ohne_ez_zusatz.query(\"~vu.isnull()\").shape[0] > 0:\n",
    "        html_page = html_page.replace('{{ html_table_zusatz }}', df_fahrten_ohne_ez_zusatz.query(\"~vu.isnull()\").to_html(index=False))\n",
    "    else:\n",
    "        html_page = html_page.replace('{{ html_table_zusatz }}', \"Keine Zusatzfahrten mit gleicher Fahrtnummer\")\n",
    "\n",
    "    # Save the combined HTML page to a file\n",
    "    html_combined = f\"/var/www/rt_archiv/buendel/rt_{replace_german_special_characters(b).replace(' ', '_').lower()}.html\"\n",
    "\n",
    "\n",
    "    with open(html_combined, 'w') as file:\n",
    "        file.write(html_page)\n",
    "\n",
    "\n",
    "    #Ausgabe der wichtigen Ergebnisse als Excel\n",
    "    xl = f\"buendel_stat/{replace_german_special_characters(b).replace(' ', '_').lower()}_stat.xlsx\"\n",
    "\n",
    "    sn00 = '01 hilfe'\n",
    "    sn02 = '02 statistik'\n",
    "    sn03 = '03 fahrten gesamt'  \n",
    "\n",
    "    with pd.ExcelWriter(xl, engine='openpyxl') as writer:         \n",
    "        q_pivot_lm.df().to_excel(writer, index=True, sheet_name=sn02)\n",
    "        writer.book[sn02].freeze_panes = 'A2'\n",
    "        writer.book[sn02].auto_filter.ref='A:H'\n",
    "\n",
    "        df_fahrten_gesamt.to_excel(writer, index=False, sheet_name=sn03)\n",
    "        writer.book[sn03].freeze_panes = 'A2'\n",
    "        writer.book[sn03].auto_filter.ref='A:N'\n",
    "\n",
    "    # Öffnen des Workbooks und Anwenden der Formatierung\n",
    "    wb = openpyxl.load_workbook(xl)\n",
    "\n",
    "    #Erstellen des Hilfeblattes an erster Position\n",
    "    wb.create_sheet(sn00, index=0)\n",
    "    sheet = wb[sn00]\n",
    "    sheet['A1'] = f\"Erstellt: {dt.datetime.now().strftime('%Y-%m-%d %H:%M')}\"\n",
    "    sheet['A2'] =  \"Erläuterung der Werte in der Tabelle\"\n",
    "    sheet['A3'] = f\"Blatt {sn02} enthält die Echtzeitquote der Linien des Bündels {b} für die letzten {interval_auswertung} Tage\"\n",
    "\n",
    "    wb.save(xl)       "
   ]
  },
  {
   "cell_type": "markdown",
   "metadata": {},
   "source": [
    "### Upload nach Redmine"
   ]
  },
  {
   "cell_type": "code",
   "execution_count": null,
   "metadata": {},
   "outputs": [],
   "source": [
    "list_excel = glob.glob('buendel_stat/*.xlsx')\n",
    "list_redmine = pd.read_csv('input/folder_vms.csv', sep=';', quotechar=\"'\")['buen'].to_list()\n",
    "df_redmine  = pd.read_csv('input/folder_vms.csv', sep=';', quotechar=\"'\")\n",
    "\n",
    "for b in list_buendel:\n",
    "    b_clean = replace_german_special_characters(b).replace(' ', '_').lower()\n",
    "    folder_file_name = os.path.join('buendel_stat', f\"{b_clean}_stat.xlsx\") \n",
    "    file_name =  f\"{b_clean}_stat.xlsx\"\n",
    "\n",
    "\n",
    "    if b_clean not in list_redmine:\n",
    "        print(f\"not in {b_clean}\")\n",
    "    \n",
    "    else:\n",
    "        print(f\"{b} in {b_clean}\")\n",
    "        project_url = df_redmine.query(f\"buen == '{b_clean}'\").reset_index().at[0, 'project_url']\n",
    "        folder_id = df_redmine.query(f\"buen == '{b_clean}'\").reset_index().at[0, 'folder_id']\n",
    "\n",
    "        delete_upload_dmsf(project_url=project_url, folder_id=folder_id, file_name=file_name, folder_file_name=folder_file_name)\n",
    "        \n"
   ]
  },
  {
   "cell_type": "code",
   "execution_count": null,
   "metadata": {},
   "outputs": [],
   "source": [
    "q_pivot_lm.df()"
   ]
  },
  {
   "cell_type": "code",
   "execution_count": null,
   "metadata": {},
   "outputs": [],
   "source": [
    "rt.cursor.sql(f\"\"\"\n",
    "                select * from \n",
    "                    (select ebene, lineshort , fnr, count(*) as anz, count(*) filter (hasRealtime) as anz_ez, \n",
    "                    (anz - anz_ez) as fahrten_ohne_ez ,round(anz_ez/anz,2) as quote,\n",
    "                    max(datum::date) filter (hasRealtime) as letzte_lieferung_echtzeit\n",
    "                    from vw_buendel \n",
    "                    where datum >= (current_date - interval {interval_auswertung} day)\n",
    "                    group by all\n",
    "                    order by ebene, lineshort, fnr)\n",
    "                where fahrten_ohne_ez > 1 and ebene in ('1+','1', '2','Nacht') \n",
    "                    order by fahrten_ohne_ez desc                                                             \n",
    "                \n",
    "                \"\"\").df().shape[0]"
   ]
  },
  {
   "cell_type": "code",
   "execution_count": null,
   "metadata": {},
   "outputs": [],
   "source": [
    "html_template"
   ]
  },
  {
   "cell_type": "code",
   "execution_count": null,
   "metadata": {},
   "outputs": [],
   "source": [
    "rt.anzahl_fahrten_betreiber().df()"
   ]
  },
  {
   "cell_type": "code",
   "execution_count": 34,
   "metadata": {},
   "outputs": [],
   "source": [
    "logging.info(f\"Anzahl Fahrten gesamt {rt.anzahl_fahrten()}\")"
   ]
  },
  {
   "cell_type": "markdown",
   "metadata": {},
   "source": [
    "## Ohne class"
   ]
  },
  {
   "cell_type": "code",
   "execution_count": 35,
   "metadata": {},
   "outputs": [],
   "source": [
    "con = duckdb.connect()"
   ]
  },
  {
   "cell_type": "code",
   "execution_count": 36,
   "metadata": {},
   "outputs": [],
   "source": [
    "con.sql(f\"\"\"INSTALL postgres;\n",
    "LOAD postgres;\n",
    "ATTACH 'dbname=zvbn_postgis user={config['POSTGRES_USER']} host=127.0.0.1 password={config['POSTGRES_PW']}' AS db_dm (TYPE POSTGRES, READ_ONLY);\"\"\")"
   ]
  },
  {
   "cell_type": "code",
   "execution_count": null,
   "metadata": {},
   "outputs": [],
   "source": [
    "con.sql(\"create or replace table lin_buendel as select * from db_dm.basis.lin_buendel\")\n",
    "con.sql(\"select * from lin_buendel\")"
   ]
  },
  {
   "cell_type": "code",
   "execution_count": null,
   "metadata": {},
   "outputs": [],
   "source": [
    "sql_lin = \"\"\"\n",
    "        Create or replace table linien as \n",
    "        SELECT nummer AS linie, buendel, ebene, dlid, id \n",
    "        FROM db_dm.basis.linien \n",
    "        WHERE buendel IS NOT NULL AND aktiv IS TRUE \n",
    "        ORDER BY buendel, ebene, nummer \"\"\"\n",
    "con.sql(sql_lin)\n",
    "con.sql(\"select * from linien\")"
   ]
  },
  {
   "cell_type": "markdown",
   "metadata": {},
   "source": [
    "### Abruf der Parquet Files (Tagespakete)"
   ]
  },
  {
   "cell_type": "code",
   "execution_count": null,
   "metadata": {},
   "outputs": [],
   "source": [
    "server = 'prod'\n",
    "con.sql(f\"create or replace table fahrten as select * from read_parquet('out/parquet/{server}/fahrten*.parquet',  union_by_name = true, filename = true)\")\n",
    "con.sql(f\"create or replace table verlauf as select * from read_parquet('out/parquet/{server}/verlauf*.parquet',  union_by_name = true, filename = true)\")\n",
    "con.sql(f\"create or replace table zusatz as select * from read_parquet('out/parquet/{server}/zusatz*.parquet',  union_by_name = true, filename = true)\")"
   ]
  },
  {
   "cell_type": "markdown",
   "metadata": {},
   "source": [
    "### Ermitteln und Löschen von nicht gewollten Betreibern"
   ]
  },
  {
   "cell_type": "code",
   "execution_count": 40,
   "metadata": {},
   "outputs": [],
   "source": [
    "#con.sql(\"select distinct vu from fahrten where vu like '%Weser%'\")"
   ]
  },
  {
   "cell_type": "code",
   "execution_count": null,
   "metadata": {},
   "outputs": [],
   "source": [
    "con.sql(\"describe fahrten\")"
   ]
  },
  {
   "cell_type": "code",
   "execution_count": null,
   "metadata": {},
   "outputs": [],
   "source": [
    "con.sql(\"select count(*), datum from fahrten group by datum order by datum\")"
   ]
  },
  {
   "cell_type": "code",
   "execution_count": 43,
   "metadata": {},
   "outputs": [],
   "source": [
    "if False: #True / False um ggf. weiterhin alles durchlaufen zu lassen\n",
    "    print('Löschen von Betreibern')\n",
    "    con.sql(\"delete from fahrten where vu not in ('Weser-Ems-Bus Betrieb Bremen', 'Weser-Ems-Bus Auftragnehmerleistungen')\")\n",
    "    #con.sql(\"delete from verlauf where vu not in ('Weser-Ems-Bus Betrieb Bremen', 'Weser-Ems-Bus Auftragnehmerleistungen')\")\n",
    "    #con.sql(\"delete from zusatz where vu not in ('Weser-Ems-Bus Betrieb Bremen', 'Weser-Ems-Bus Auftragnehmerleistungen')\")"
   ]
  },
  {
   "cell_type": "code",
   "execution_count": null,
   "metadata": {},
   "outputs": [],
   "source": [
    "con.sql(\"select count(*) from fahrten where datum >= (current_date - interval 100 days)\").df().values.tolist()[0][0]"
   ]
  },
  {
   "cell_type": "code",
   "execution_count": null,
   "metadata": {},
   "outputs": [],
   "source": [
    "anzahl_fahrten = con.sql(f\"select count(*) from fahrten where datum >= '{letzte14tage}'\").df().values.tolist()[0][0]\n",
    "print(f\"\"\"Anzahl Fahrten: {anzahl_fahrten},  Länge Verlauf: {con.sql(\"select count(*) from verlauf\").df().values.tolist()[0][0]}    \"\"\") "
   ]
  },
  {
   "cell_type": "code",
   "execution_count": null,
   "metadata": {},
   "outputs": [],
   "source": [
    "con.sql(\"\"\"select \n",
    "            datum, \n",
    "            fahrtstartstationname, \n",
    "           strftime( cast(fahrtstarttime as TIMESTAMPTZ), '%H:%M') as fahrtstart,\n",
    "           fahrtendstationname,\n",
    "           strftime( cast(fahrtendtime as TIMESTAMPTZ), '%H:%M') as fahrtende,\n",
    "            \n",
    "            deviceid, \n",
    "            split_part(deviceid, '-', 2) as fnr, \n",
    "            cast(((cast(split_part(split_part(deviceid, '-', 3), '#', 1) as int64) - 8000000000000) / 1000) as int64) as m2, \n",
    "        from fahrten \n",
    "        where deviceid like '%680%DBRB%' and datum = '2024-10-29'\n",
    "        order by datum, fahrtstarttime\n",
    "        \n",
    "        \"\"\").df()\n",
    "#.to_excel('out/web.xlsx', index=False)"
   ]
  },
  {
   "cell_type": "markdown",
   "metadata": {},
   "source": [
    "### Anzahl der Fahrten je Betreiber"
   ]
  },
  {
   "cell_type": "code",
   "execution_count": null,
   "metadata": {},
   "outputs": [],
   "source": [
    "con.sql(\"select journeyOperator, count(journeyOperator) as count from verlauf group by journeyOperator order by count\")"
   ]
  },
  {
   "cell_type": "markdown",
   "metadata": {},
   "source": [
    "### Fahrten mit hohen Verspätungen"
   ]
  },
  {
   "cell_type": "code",
   "execution_count": null,
   "metadata": {},
   "outputs": [],
   "source": [
    "con.sql(\"select distinct deviceid from verlauf where dep_del > 100\").df()"
   ]
  },
  {
   "cell_type": "code",
   "execution_count": null,
   "metadata": {},
   "outputs": [],
   "source": [
    "con.sql(\"describe fahrten\")"
   ]
  },
  {
   "cell_type": "markdown",
   "metadata": {},
   "source": [
    "### Verkürzung der DLID\n",
    "- Zum Teil weren bei mehreren Betreibern einer Linie TLID mit vierteiliger DLID geliefert \n",
    "- Verkürzung ermöglicht die Verknüpfung mit Liste aus DM"
   ]
  },
  {
   "cell_type": "code",
   "execution_count": null,
   "metadata": {},
   "outputs": [],
   "source": [
    "con.sql(\"alter table fahrten add column if not exists lineid_short VARCHAR\")\n",
    "con.sql(\"\"\"update fahrten \n",
    "        set lineid_short = concat_ws(':', split_part(lineid,':', 1), split_part(lineid,':', 2), split_part(lineid,':', 3))\"\"\")\n",
    "con.sql(\"\"\"select distinct lineid, \n",
    "        concat_ws(':', split_part(lineid,':', 1), split_part(lineid,':', 2), split_part(lineid,':', 3)) \n",
    "        from fahrten\"\"\")"
   ]
  },
  {
   "cell_type": "markdown",
   "metadata": {},
   "source": [
    "### Über HIM gemeldete Ausfälle (ts_reported_cancelled gefüllt)"
   ]
  },
  {
   "cell_type": "code",
   "execution_count": 51,
   "metadata": {},
   "outputs": [],
   "source": [
    "df_fahrten_ausfall_him = con.sql(f\"\"\"\n",
    "                              select vu, fnr, ts_reported_cancelled, journey_cancelled \n",
    "                              from fahrten f \n",
    "                              where ts_reported_cancelled != '' and f.datum >= '{letzte14tage}'\"\"\").df()"
   ]
  },
  {
   "cell_type": "markdown",
   "metadata": {},
   "source": [
    "### Echzeitquote"
   ]
  },
  {
   "cell_type": "markdown",
   "metadata": {},
   "source": [
    "#### nach Linie und Betreiber"
   ]
  },
  {
   "cell_type": "code",
   "execution_count": null,
   "metadata": {},
   "outputs": [],
   "source": [
    "df_ez_quote_betreiber = con.sql(f\"\"\"\n",
    "        select l.buendel, l.ebene,f.datum, f.vu, f.lineshort,f.lineid_short, count(f.hasRealtime) filter (f.hasRealtime = True) ez_true, count(f.*) count, \n",
    "        round(ez_true / count * 100, 1) anteil_ez\n",
    "        from fahrten f\n",
    "        left outer join linien l on f.lineid_short = l.dlid\n",
    "        where f.datum >= '{letzte14tage}'              \n",
    "        group by f.lineid_short, f.vu, f.datum, f.lineshort, f.lineid_short, l.buendel, l.ebene\n",
    "        order by f.vu, f.lineid_short\n",
    "        \"\"\").df()\n",
    "df_ez_quote_betreiber['buendel'] = df_ez_quote_betreiber['buendel'].fillna('-')\n",
    "df_ez_quote_betreiber['ebene'] = df_ez_quote_betreiber['ebene'].fillna('-')\n",
    "anteil_ez_pivot_betreiber = pd.pivot_table(df_ez_quote_betreiber, index=['buendel','ebene', 'vu', 'lineshort'], columns='datum', values='anteil_ez').reset_index()\n",
    "anteil_ez_pivot_betreiber"
   ]
  },
  {
   "cell_type": "markdown",
   "metadata": {},
   "source": [
    "#### nach Linie (ohne Betreiber)"
   ]
  },
  {
   "cell_type": "code",
   "execution_count": null,
   "metadata": {},
   "outputs": [],
   "source": [
    "df_ez_quote_o_betreiber = con.sql(f\"\"\"\n",
    "        select l.buendel, l.ebene,f.datum, f.lineshort,f.lineid_short, count(f.hasRealtime) filter (f.hasRealtime = True) ez_true, count(f.*) count, \n",
    "        round(ez_true / count * 100, 1) anteil_ez\n",
    "        from fahrten f        \n",
    "        left outer join linien l on f.lineid_short = l.dlid      \n",
    "        where f.datum >= '{letzte14tage}'        \n",
    "        group by f.lineid_short, f.datum, f.lineshort, f.lineid_short, l.buendel, l.ebene\n",
    "        order by f.lineid_short\n",
    "        \"\"\").df()\n",
    "df_ez_quote_o_betreiber['buendel'] = df_ez_quote_o_betreiber['buendel'].fillna('-')\n",
    "df_ez_quote_o_betreiber['ebene'] = df_ez_quote_o_betreiber['ebene'].fillna('-')\n",
    "anteil_ez_pivot_o_betreiber = pd.pivot_table(df_ez_quote_o_betreiber, index=['buendel','ebene', 'lineshort'], columns='datum', values='anteil_ez').reset_index()\n",
    "anteil_ez_pivot_o_betreiber"
   ]
  },
  {
   "cell_type": "markdown",
   "metadata": {},
   "source": [
    "### Fahrten ohne Echtzeit Ebene 1/1+ und 2"
   ]
  },
  {
   "cell_type": "code",
   "execution_count": 54,
   "metadata": {},
   "outputs": [],
   "source": [
    "df_fahrten_ohne_ez_ebenen_1_1p_2 = con.sql(f\"\"\"\n",
    "        select f.datum, l.buendel, l.ebene, f.vu, f.fnr, f.lineshort,f.lineid_short, f.hasrealtime, f.journey_cancelled, f.reported_cancelled, f.ts_reported_cancelled\n",
    "        \n",
    "        from fahrten f\n",
    "                                           \n",
    "        left outer join linien l on f.lineid_short = l.dlid              \n",
    "        where l.ebene in ('1', '1+') and f.hasrealtime = False and f.datum >= '{letzte14tage}'\n",
    "                                           \n",
    "        order by f.datum, f.lineid_short\n",
    "        \"\"\").df()"
   ]
  },
  {
   "cell_type": "code",
   "execution_count": 55,
   "metadata": {},
   "outputs": [],
   "source": [
    "df_fahrten_ausfall_1_1p_2 = con.sql(f\"\"\"\n",
    "        select f.datum, l.buendel, l.ebene, f.vu, f.fnr, f.lineshort,f.lineid_short, f.hasrealtime, f.journey_cancelled, f.reported_cancelled, f.ts_reported_cancelled\n",
    "        \n",
    "        from fahrten f\n",
    "                                    \n",
    "        left outer join linien l on f.lineid_short = l.dlid              \n",
    "        where l.ebene in ('1', '1+', '2') and (journey_cancelled = True or f.reported_cancelled = True) and \n",
    "        f.datum >= '{letzte14tage}'                            \n",
    "        order by f.datum, f.lineid_short\n",
    "        \"\"\").df()"
   ]
  },
  {
   "cell_type": "markdown",
   "metadata": {},
   "source": [
    "# Ausgabe xlsx EZ Statistiken"
   ]
  },
  {
   "cell_type": "code",
   "execution_count": 56,
   "metadata": {},
   "outputs": [],
   "source": [
    "xlsx = \"/var/www/rt_archiv/anteil_echtzeit_linien_vbn.xlsx\"\n",
    "sn00 = '00 Hilfe'\n",
    "sn01 = '01 pivot alle Linien betreiber'\n",
    "sn02 = '02 pivot alle Linien'\n",
    "sn03 = '03 fahrten ohne EZ 1 1+ 2'\n",
    "sn04 = '04 fahrten ohne EZ 1 1+ 3 grup'\n",
    "sn06 = '05 fahrten ausfall'\n",
    "sn07 = '06 fahrten ausfall über HIM'\n",
    "with pd.ExcelWriter(xlsx, engine=\"openpyxl\") as writer:\n",
    "    #Hilfeblatt\n",
    "    writer.book.create_sheet(sn00)\n",
    "    sheet = writer.book[sn00]\n",
    "    sheet['A1'] = f\"Erstellt: {dt.datetime.now().strftime('%Y-%m-%d %H:%M')} Zeitraum: {letzte14tage} bis {gestern}\"\n",
    "\n",
    "    sheet['A3'] = \"Inhalt\"\n",
    "    sheet['B4'] = f\"Blatt {sn01}: Pivot Echtzeitquote inkl. Betreiberkennung\"\n",
    "    sheet['B5'] = f\"Blatt {sn02}: Pivot Echtzeitquote ohne Betreiberkennung\"\n",
    "    sheet['B6'] = f\"Blatt {sn03}: Fahrten ohne Echtzeit\"\n",
    "    sheet['B7'] = f\"Blatt {sn04}: Fahrten ohne Echtzeit mit Anzahl\"\n",
    "    sheet['B8'] = f\"Blatt {sn06}: Fahrten Ausfall\"\n",
    "    sheet['B9'] = f\"Blatt {sn07}: Fahrten Ausfall über HIM\"\n",
    "\n",
    "    #mit Kennung der Betreiber\n",
    "    anteil_ez_pivot_betreiber.to_excel(writer, sheet_name=sn01, index=False)\n",
    "    writer.book[sn01].freeze_panes = 'e2'\n",
    "    writer.book[sn01].auto_filter.ref='A:H'\n",
    "    for cell in writer.book[sn01][\"1:1\"]:\n",
    "        cell.number_format = 'YYYY-MM-DD'\n",
    "    writer.book[sn01].column_dimensions['c'].width = 22\n",
    "    for c in ['D', 'E', 'F', 'G', 'H']:\n",
    "        writer.book[sn01].column_dimensions[c].width = 22        \n",
    "    for c in writer.book[sn01].iter_cols(min_col=4, max_col=anteil_ez_pivot_betreiber.shape[1]+4):\n",
    "                #ermitteln der Spalte column letter\n",
    "                cl = c[int(f\"{anteil_ez_pivot_betreiber.shape[0]}\")].column_letter\n",
    "                writer.book[sn01].column_dimensions[cl].width = 16\n",
    "\n",
    "    #Anteil EZ ohne Kennung der Betreiber\n",
    "    anteil_ez_pivot_o_betreiber.to_excel(writer, sheet_name=sn02, index=False)\n",
    "    writer.book[sn02].freeze_panes = 'd2'\n",
    "    writer.book[sn02].auto_filter.ref='A:H'\n",
    "    for cell in writer.book[sn02][\"1:1\"]:\n",
    "        cell.number_format = 'YYYY-MM-DD'\n",
    "    writer.book[sn02].column_dimensions['c'].width = 22\n",
    "    for c in ['D', 'E', 'F', 'G', 'H']:\n",
    "        writer.book[sn02].column_dimensions[c].width = 22 \n",
    "         \n",
    "    for c in writer.book[sn02].iter_cols(min_col=4, max_col=anteil_ez_pivot_o_betreiber.shape[1]+4):\n",
    "                #ermitteln der Spalte column letter\n",
    "                cl = c[int(f\"{anteil_ez_pivot_o_betreiber.shape[0]}\")].column_letter\n",
    "                writer.book[sn02].column_dimensions[cl].width = 16\n",
    "\n",
    "    ## Ausgabe der Fahrten ohne Echtzeit Ebene 1 und 1+ und 2 einzeln\n",
    "    df_fahrten_ohne_ez_ebenen_1_1p_2.to_excel(writer, sheet_name=sn03, index=False)\n",
    "    writer.book[sn03].freeze_panes = 'a2'\n",
    "    writer.book[sn03].auto_filter.ref='A:M'\n",
    "    for cell in writer.book[sn03][\"A\"]:\n",
    "        cell.number_format = 'YYYY-MM-DD'\n",
    "    writer.book[sn03].column_dimensions['A'].width = 18\n",
    "\n",
    "    ## Ausgabe der Fahrten ohne Echtzeit Ebene 1 und 1+ und 2 gruppiert mit Anzahl\n",
    "    df_fahrten_ohne_ez_ebenen_1_1p_2[['vu', 'fnr']].value_counts().reset_index().sort_values(['count', 'vu'], ascending=False).to_excel(writer, sheet_name=sn04, index=False)\n",
    "    writer.book[sn04].freeze_panes = 'a2'\n",
    "    writer.book[sn04].auto_filter.ref='A:H'\n",
    "    writer.book[sn04].column_dimensions['A'].width = 22   \n",
    "\n",
    "    ## Ausgabe der Fahrten Ausfall Ebene 1, 1+ und 2\n",
    "    df_fahrten_ausfall_1_1p_2.to_excel(writer, sheet_name=sn06, index=False)\n",
    "    writer.book[sn06].freeze_panes = 'a2'\n",
    "    writer.book[sn06].auto_filter.ref='A:M'\n",
    "    for cell in writer.book[sn06][\"A\"]:\n",
    "        cell.number_format = 'YYYY-MM-DD'\n",
    "    writer.book[sn06].column_dimensions['A'].width = 18\n",
    "\n",
    "    ## Ausgabe der Fahrten Ausfall über HIM\n",
    "    df_fahrten_ausfall_him.to_excel(writer, sheet_name=sn07, index=False)\n",
    "    writer.book[sn07].freeze_panes = 'a2'\n",
    "    writer.book[sn07].auto_filter.ref='A:M'\n",
    "    for cell in writer.book[sn07][\"A\"]:\n",
    "        cell.number_format = 'YYYY-MM-DD'\n",
    "    writer.book[sn07].column_dimensions['A'].width = 18"
   ]
  },
  {
   "cell_type": "code",
   "execution_count": null,
   "metadata": {},
   "outputs": [],
   "source": [
    "df_stat_rt_canc = con.sql(\"\"\"\n",
    "        select \n",
    "            vu, \n",
    "            count(*) as anzahl, \n",
    "            count(*) filter (hasRealtime) as hasRealtime, \n",
    "            count(*) filter (realtimeHasEverBeenReported) as realtimeHasEverBeenReported,\n",
    "            count(*) filter (realtimehaseverbeenreported or hasrealtime) as rt_combined,\n",
    "            count(*) filter (journey_cancelled) as journey_cancelled,\n",
    "            count(*) filter (reported_cancelled) as reported_cancelled\n",
    "        from fahrten\n",
    "        where datum >= (current_date - interval 3 days)\n",
    "        group by all\n",
    "        order by vu\"\"\").df()\n",
    "df_stat_rt_canc"
   ]
  },
  {
   "cell_type": "code",
   "execution_count": 58,
   "metadata": {},
   "outputs": [],
   "source": [
    "output_file = 'reports/df_stat_rt_canc.xlsx'\n",
    "sheet_name = 'Stat RT Canc'\n",
    "df_stat_rt_canc = df_stat_rt_canc.sort_values(by='vu')\n",
    "with pd.ExcelWriter(output_file, engine='openpyxl') as writer:\n",
    "    df_stat_rt_canc.to_excel(writer, index=False, sheet_name=sheet_name)\n",
    "    worksheet = writer.book[sheet_name]\n",
    "    worksheet.auto_filter.ref = worksheet.dimensions\n",
    "    worksheet.column_dimensions['A'].width = 30  # Set the width of column A to 30\n",
    "    worksheet.freeze_panes = 'A2'  # Freeze the first row\n",
    "    len = df_stat_rt_canc.shape[0]  # Get the number of rows\n",
    "    worksheet[f'B{len+3}'] = f'=subtotal(9,B2:B{len + 1})'  # Add a sum formula for column B\n",
    "    worksheet[f'C{len+3}'] = f'=subtotal(9,C2:C{len + 1})'  # Add a sum formula for column C\n",
    "    worksheet[f'D{len+3}'] = f'=subtotal(9,D2:D{len + 1})'  # Add a sum formula for column D\n",
    "    worksheet[f'E{len+3}'] = f'=subtotal(9,E2:E{len + 1})'  # Add a sum formula for column E\n",
    "    worksheet[f'F{len+3}'] = f'=subtotal(9,F2:F{len + 1})'  # Add a sum formula for column F\n"
   ]
  },
  {
   "cell_type": "code",
   "execution_count": null,
   "metadata": {},
   "outputs": [],
   "source": []
  }
 ],
 "metadata": {
  "kernelspec": {
   "display_name": "geo3112",
   "language": "python",
   "name": "python3"
  },
  "language_info": {
   "codemirror_mode": {
    "name": "ipython",
    "version": 3
   },
   "file_extension": ".py",
   "mimetype": "text/x-python",
   "name": "python",
   "nbconvert_exporter": "python",
   "pygments_lexer": "ipython3",
   "version": "3.11.9"
  }
 },
 "nbformat": 4,
 "nbformat_minor": 2
}
